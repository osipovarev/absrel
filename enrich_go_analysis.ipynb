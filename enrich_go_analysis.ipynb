{
 "cells": [
  {
   "cell_type": "code",
   "execution_count": 7,
   "id": "mighty-coordinator",
   "metadata": {},
   "outputs": [],
   "source": [
    "%matplotlib inline\n",
    "import numpy as np\n",
    "from glob import glob\n",
    "import pandas as pd\n",
    "from matplotlib import pyplot as plt\n",
    "import seaborn as sns\n",
    "import matplotlib\n",
    "matplotlib.rcParams['pdf.fonttype'] = 42\n",
    "matplotlib.rcParams['ps.fonttype'] = 42\n",
    "from venn import venn\n",
    "from collections import Counter"
   ]
  },
  {
   "cell_type": "code",
   "execution_count": 6,
   "id": "bored-saying",
   "metadata": {},
   "outputs": [],
   "source": [
    "### load data\n",
    "dir_path = '/Users/osipova/Documents/LabDocs/NectarivoryProject/absrel/absrel_analysis_2024/v8_results/ClusterProfiler/'\n",
    "\n",
    "all_results = {}\n",
    "\n",
    "nectar_clades = ['hmmbrds', 'honeyeaters', 'nectar_parrots', 'sunbirds']\n",
    "nonnectar_clades = ['swifts', 'falcons', 'lyrebirds', 'passerides']\n",
    "\n",
    "clades = nectar_clades + nonnectar_clades\n",
    "for clade in clades:\n",
    "    file_name = 'goenrich.{}.under_selection_per_clade_0.05.tsv'.format(clade)\n",
    "    file_data = glob(dir_path + file_name)[0]\n",
    "    df = pd.read_csv(file_data, sep='\\t')\n",
    "    all_results[clade] = df"
   ]
  },
  {
   "cell_type": "code",
   "execution_count": 13,
   "id": "increased-texture",
   "metadata": {},
   "outputs": [
    {
     "data": {
      "text/plain": [
       "42"
      ]
     },
     "execution_count": 13,
     "metadata": {},
     "output_type": "execute_result"
    }
   ],
   "source": [
    "## Count in how many groups each GO is present\n",
    "all_goids = []\n",
    "for clade in nonnectar_clades:\n",
    "    all_goids.extend(all_results[clade]['ID'])\n",
    "go_count_dict = Counter(all_goids)\n",
    "\n",
    "rank3_nonnectar_go = [k for k in go_count_dict if go_count_dict[k] >= 3]\n",
    "len(rank3_nonnectar_go)"
   ]
  },
  {
   "cell_type": "code",
   "execution_count": null,
   "id": "brown-digit",
   "metadata": {},
   "outputs": [],
   "source": []
  }
 ],
 "metadata": {
  "kernelspec": {
   "display_name": "Python 3",
   "language": "python",
   "name": "python3"
  },
  "language_info": {
   "codemirror_mode": {
    "name": "ipython",
    "version": 3
   },
   "file_extension": ".py",
   "mimetype": "text/x-python",
   "name": "python",
   "nbconvert_exporter": "python",
   "pygments_lexer": "ipython3",
   "version": "3.7.5"
  }
 },
 "nbformat": 4,
 "nbformat_minor": 5
}
