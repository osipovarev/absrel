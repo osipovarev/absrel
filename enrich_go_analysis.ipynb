{
 "cells": [
  {
   "cell_type": "code",
   "execution_count": 1,
   "id": "international-aaron",
   "metadata": {},
   "outputs": [],
   "source": [
    "%matplotlib inline\n",
    "import numpy as np\n",
    "from glob import glob\n",
    "import pandas as pd\n",
    "from matplotlib import pyplot as plt\n",
    "import seaborn as sns\n",
    "import matplotlib\n",
    "matplotlib.rcParams['pdf.fonttype'] = 42\n",
    "matplotlib.rcParams['ps.fonttype'] = 42\n",
    "from venn import venn\n",
    "from collections import Counter\n",
    "from matplotlib.colors import DivergingNorm"
   ]
  },
  {
   "cell_type": "code",
   "execution_count": 29,
   "id": "74062af9",
   "metadata": {},
   "outputs": [],
   "source": [
    "def load_data(v, nectar_clades, nonnectar_clades, data_type):\n",
    "    dir_path = f'/Users/osipova/Documents/LabDocs/NectarivoryProject/absrel/absrel_analysis_2024/{v}/ClusterProfiler/'\n",
    "    all_results = {}\n",
    "    clades = nectar_clades + nonnectar_clades\n",
    "    for clade in clades:\n",
    "        file_name = get_file_name(clade, data_type)\n",
    "        file_data = glob(dir_path + file_name)[0]\n",
    "        df = pd.read_csv(file_data, sep='\\t')\n",
    "        all_results[clade] = df\n",
    "    return all_results"
   ]
  },
  {
   "cell_type": "code",
   "execution_count": 8,
   "id": "028b071f",
   "metadata": {},
   "outputs": [],
   "source": [
    "def get_file_name(clade, data_type):\n",
    "    if data_type == 'absrel':\n",
    "        return f'hg38.goenrich.{clade}.under_selection_per_clade_0.05.tsv'\n",
    "    elif data_type == 'RNAseq':\n",
    "        direction = 'down' # Or any other logic to determine this\n",
    "        return f'goenrich.hg38.{direction}.{clade}.multi_deseq2_res.tsv'\n",
    "    return ''"
   ]
  },
  {
   "cell_type": "code",
   "execution_count": 11,
   "id": "e4131084",
   "metadata": {},
   "outputs": [],
   "source": [
    "def count_gos(all_results, clades):\n",
    "    all_goids = []\n",
    "    for clade in clades:\n",
    "        all_goids.extend(all_results[clade][all_results[clade]['pvalue'] < 0.05]['ID'])\n",
    "    return Counter(all_goids)"
   ]
  },
  {
   "cell_type": "code",
   "execution_count": 12,
   "id": "a521c256",
   "metadata": {},
   "outputs": [],
   "source": [
    "def filter_and_merge_go_data(all_results, target_clades, rank_target):\n",
    "    data_filtered = {}\n",
    "    for clade in target_clades:\n",
    "        df_clade = all_results[clade]\n",
    "        filt_df_clade = df_clade[df_clade['ID'].isin(rank_target)][['ID', 'Description', 'pvalue']]\n",
    "        data_filtered[clade] = filt_df_clade\n",
    "    \n",
    "    merged_df = pd.DataFrame({'ID': [], 'Description': []})\n",
    "    for clade, df in data_filtered.items():\n",
    "        df[f'logP_{clade}'] = np.log10(df['pvalue'])\n",
    "        df.drop('pvalue', axis=1, inplace=True)\n",
    "        merged_df = pd.merge(merged_df, df, on=['ID', 'Description'], how='outer')\n",
    "    \n",
    "    merged_df.set_index('Description', inplace=True)\n",
    "    return merged_df"
   ]
  },
  {
   "cell_type": "code",
   "execution_count": 54,
   "id": "e677df40",
   "metadata": {},
   "outputs": [],
   "source": [
    "def plot_heatmap(data, vmin):\n",
    "    cmap_pval = sns.diverging_palette(285, 200, 100, as_cmap=True)\n",
    "    divnorm_pval = DivergingNorm(vmin=vmin, vmax=0, vcenter=np.log10(0.051))\n",
    "    pval_cols = [i for i in data.columns if i.startswith('logP_')]\n",
    "    df_pval = data[pval_cols]\n",
    "\n",
    "    fig, axes = plt.subplots(figsize=(1.8, len(data)/2.5))\n",
    "    sns.heatmap(data=df_pval, cmap=cmap_pval, norm=divnorm_pval, ax=axes)\n",
    "    axes.set_ylabel('')\n",
    "    fig.tight_layout()"
   ]
  },
  {
   "cell_type": "markdown",
   "id": "26cc85fc",
   "metadata": {},
   "source": [
    "## 1. aBSREL GO enrichments"
   ]
  },
  {
   "cell_type": "code",
   "execution_count": 14,
   "id": "2ff00d58",
   "metadata": {},
   "outputs": [],
   "source": [
    "TARGET_OPTIONS = ['nectar', 'nonnectar']\n",
    "TARGET = 'nectar'\n",
    "EXCLUDE_NONNECTAR = ['GO:0043547', 'GO:0007272', 'GO:0008366', 'GO:0042552']\n",
    "# EXCLUDE_CHILDREN = [\"GO:0008366\", \"GO:0042552\", \"GO:0071805\", \"GO:0097623\"]\n",
    "EXCLUDE_IDS = EXCLUDE_NONNECTAR # + EXCLUDE_CHILDREN"
   ]
  },
  {
   "cell_type": "markdown",
   "id": "0afe3f52",
   "metadata": {},
   "source": [
    "### 1.1. Load GO enrichment tables"
   ]
  },
  {
   "cell_type": "code",
   "execution_count": 30,
   "id": "7fca8b75",
   "metadata": {},
   "outputs": [],
   "source": [
    "nectar_clades = ['hmmbrds', 'nectar_parrots', 'honeyeaters', 'sunbirds']\n",
    "nonnectar_clades = ['swifts', 'falcons', 'lyrebirds', 'passerides']\n",
    "all_results = load_data('combined_default_srv_mh', nectar_clades, nonnectar_clades, 'absrel')"
   ]
  },
  {
   "cell_type": "markdown",
   "id": "a18d2f8e",
   "metadata": {},
   "source": [
    "### 1.2. Rank Calculation"
   ]
  },
  {
   "cell_type": "code",
   "execution_count": 41,
   "id": "21a84f66",
   "metadata": {},
   "outputs": [
    {
     "name": "stdout",
     "output_type": "stream",
     "text": [
      "8\n"
     ]
    }
   ],
   "source": [
    "rank = 3\n",
    "\n",
    "nectar_go_count = count_gos(all_results, nectar_clades)\n",
    "rank_nectar_go = [k for k in nectar_go_count if nectar_go_count[k] >= rank]\n",
    "print(len(rank_nectar_go))"
   ]
  },
  {
   "cell_type": "markdown",
   "id": "6c3d494d",
   "metadata": {},
   "source": [
    "### 1.3. Select Target Data"
   ]
  },
  {
   "cell_type": "code",
   "execution_count": 44,
   "id": "8b688b62",
   "metadata": {},
   "outputs": [],
   "source": [
    "target_clades = nectar_clades if TARGET == 'nectar' else nonnectar_clades\n",
    "rank_target = rank_nectar_go if TARGET == 'nectar' else []\n",
    "\n",
    "merged_df = filter_and_merge_go_data(all_results, target_clades, rank_target)\n",
    "\n",
    "# Exclude IDs\n",
    "merged_df = merged_df[~merged_df['ID'].isin(EXCLUDE_IDS)]"
   ]
  },
  {
   "cell_type": "markdown",
   "id": "51d2a9e8",
   "metadata": {},
   "source": [
    "### 1.4. Plot Heatmap"
   ]
  },
  {
   "cell_type": "code",
   "execution_count": 55,
   "id": "53e57fa4",
   "metadata": {},
   "outputs": [
    {
     "name": "stderr",
     "output_type": "stream",
     "text": [
      "/Users/osipova/local/Homebrew/lib/python3.7/site-packages/ipykernel_launcher.py:3: MatplotlibDeprecationWarning: \n",
      "The DivergingNorm class was deprecated in Matplotlib 3.2 and will be removed two minor releases later. Use TwoSlopeNorm instead.\n",
      "  This is separate from the ipykernel package so we can avoid doing imports until\n",
      "/Users/osipova/local/Homebrew/lib/python3.7/site-packages/ipykernel_launcher.py:10: UserWarning: Tight layout not applied. The left and right margins cannot be made large enough to accommodate all axes decorations. \n",
      "  # Remove the CWD from sys.path while we load stuff.\n"
     ]
    },
    {
     "data": {
      "image/png": "[encoded data removed]",
      "text/plain": [
       "<Figure size 129.6x144 with 2 Axes>"
      ]
     },
     "metadata": {
      "needs_background": "light"
     },
     "output_type": "display_data"
    }
   ],
   "source": [
    "plot_heatmap(merged_df, vmin=-2.5)\n",
    "\n",
    "# Save to PDF\n",
    "pdf_name = 'clusterProfiler.absrel_2024_results.nectar.pdf'\n",
    "# plt.savefig(pdf_name, bbox_inches='tight')"
   ]
  },
  {
   "cell_type": "code",
   "execution_count": 59,
   "id": "impressive-efficiency",
   "metadata": {},
   "outputs": [],
   "source": [
    "# merged_df.to_csv('3_way_convergent_terms.intra_nonnectar.up_pectoralis.tsv', sep='\\t')\n",
    "merged_df.to_csv('3_way_convergent_terms.multi_deseq2.{}_pectoralis.tsv'.format(d), sep='\\t')"
   ]
  },
  {
   "cell_type": "code",
   "execution_count": null,
   "id": "d6d260a9",
   "metadata": {},
   "outputs": [],
   "source": []
  },
  {
   "cell_type": "markdown",
   "id": "5fa76853",
   "metadata": {},
   "source": [
    "## 2. RNAseq GO enrichemnt"
   ]
  },
  {
   "cell_type": "code",
   "execution_count": 56,
   "id": "65d65b30",
   "metadata": {},
   "outputs": [],
   "source": [
    "def load_rnaseq_data(dir_path, clades, directions, tissues):\n",
    "    all_results = {}\n",
    "    for d in directions:\n",
    "        for clade in clades:\n",
    "            for t in tissues:\n",
    "                file_name = f'March_2024.hg38.goenrich.{d}.{clade}.{t}.top_0.05.tsv'\n",
    "                file_data = glob(dir_path + file_name)[0]\n",
    "                df = pd.read_csv(file_data, sep='\\t')\n",
    "                all_results[(d, clade, t)] = df\n",
    "    return all_results"
   ]
  },
  {
   "cell_type": "code",
   "execution_count": null,
   "id": "67f041f8",
   "metadata": {},
   "outputs": [],
   "source": [
    "def count_gos(all_results, clades, d, t):\n",
    "    all_goids = []\n",
    "    for clade in clades:\n",
    "        all_goids.extend(all_results[(d, clade, t)][all_results[(d, clade, t)]['pvalue'] < 0.05]['ID'])\n",
    "    return Counter(all_goids)"
   ]
  },
  {
   "cell_type": "code",
   "execution_count": null,
   "id": "7c9688af",
   "metadata": {},
   "outputs": [],
   "source": [
    "def filter_and_merge_clade_data(all_results, clades, rank_list, d, t):\n",
    "    data_rank = {}\n",
    "    for clade in clades:\n",
    "        df_clade = all_results[(d, clade, t)]\n",
    "        filt_df_clade = df_clade[df_clade['ID'].isin(rank_list)][['ID', 'Description', 'pvalue']]\n",
    "        data_rank[clade] = filt_df_clade\n",
    "\n",
    "    merged_df = pd.DataFrame({'ID': [], 'Description': []})\n",
    "    for clade, df in data_rank.items():\n",
    "        df[f'logP_{clade}'] = np.log10(df['pvalue'])\n",
    "        df.drop('pvalue', axis=1, inplace=True)\n",
    "        if not(df.empty):\n",
    "            merged_df = pd.merge(merged_df, df, on=['ID', 'Description'], how='outer')\n",
    "    merged_df.set_index('Description', inplace=True)\n",
    "    return merged_df"
   ]
  },
  {
   "cell_type": "code",
   "execution_count": null,
   "id": "c2508783",
   "metadata": {},
   "outputs": [],
   "source": [
    "def plot_rnaseq_heatmaps(all_merged_dfs, dir_path, rank):\n",
    "    for (d, t), merged_df in all_merged_dfs.items():\n",
    "        if not merged_df.empty:\n",
    "            cmap_pval = sns.diverging_palette(285, 200, 100, as_cmap=True)\n",
    "            divnorm_pval = DivergingNorm(vmin=-5, vmax=0, vcenter=np.log10(0.051))\n",
    "            pval_cols = [col for col in merged_df.columns if col.startswith('logP_')]\n",
    "            df_pval = merged_df[pval_cols]\n",
    "\n",
    "            fig, ax = plt.subplots(figsize=(2.2, len(merged_df)/2.3))\n",
    "            sns.heatmap(data=df_pval, cmap=cmap_pval, norm=divnorm_pval, ax=ax)\n",
    "            ax.set_ylabel('')\n",
    "            fig.tight_layout()"
   ]
  },
  {
   "cell_type": "markdown",
   "id": "4c6ae617",
   "metadata": {},
   "source": [
    "### 2.1. Load GO enrichment tables"
   ]
  },
  {
   "cell_type": "code",
   "execution_count": null,
   "id": "5cc5e97a",
   "metadata": {},
   "outputs": [],
   "source": [
    "RNA_DIR_PATH = '/Users/osipova/Documents/LabDocs/Bird_transcriptomics/Transcriptome_for_NectarGenomics/DESeq2_results_Kallisto/ClusterProfiler/'\n",
    "ABSREL_DIR_PATH = '/Users/osipova/Documents/LabDocs/NectarivoryProject/absrel/absrel_analysis_2024/combined_default_srv_mh/ClusterProfiler/'\n",
    "NECTAR_CLADES = ['Annas_hummingbird', 'New_Holland_honeyeater', 'rainbow_lorikeet']\n",
    "DIRECTIONS = ['up', 'down']\n",
    "TISSUES = ['palate']\n",
    "RANK = 2\n",
    "\n",
    "all_results = load_rnaseq_data(RNA_DIR_PATH, NECTAR_CLADES, DIRECTIONS, TISSUES)"
   ]
  },
  {
   "cell_type": "markdown",
   "id": "b481aa5b",
   "metadata": {},
   "source": [
    "### 2.2. Analyze and plot heatmaps"
   ]
  },
  {
   "cell_type": "code",
   "execution_count": null,
   "id": "8446a477",
   "metadata": {},
   "outputs": [],
   "source": [
    "all_merged_dfs = {}\n",
    "\n",
    "for d in DIRECTIONS:\n",
    "    for t in TISSUES:\n",
    "        nectar_go_count = count_gos(all_results, NECTAR_CLADES, d, t)\n",
    "        rank_nectar_go = [k for k in nectar_go_count if nectar_go_count[k] == RANK]\n",
    "        all_merged_dfs[(d, t)] = filter_and_merge_clade_data(all_results, NECTAR_CLADES, rank_nectar_go, d, t)\n",
    "        merged_df_path = f'{RNA_DIR_PATH}/rank{RANK}.goenrich.{d}.all_nectar.{t}.top_0.05.tsv'\n",
    "        all_merged_dfs[(d, t)].to_csv(merged_df_path, sep='\\t')\n",
    "\n",
    "plot_rnaseq_heatmaps(all_merged_dfs, RNA_DIR_PATH, RANK)\n",
    "\n",
    "pdf_name = f'{dir_path}/rank{rank}.goenrich.multi_deseq2.nectar.{d}_{t}.pdf'\n",
    "# plt.savefig(pdf_name, format='pdf', bbox_inches='tight')"
   ]
  },
  {
   "cell_type": "markdown",
   "id": "cbbc4b55",
   "metadata": {},
   "source": [
    "## 3. Breakdown selected terms in aBSREL GO enrichemnts"
   ]
  },
  {
   "cell_type": "code",
   "execution_count": null,
   "id": "9cf77728",
   "metadata": {},
   "outputs": [],
   "source": [
    "def load_and_process_cp_data(dbs, dir_path, p_cutoff, count_cutoff):\n",
    "    DF_dbs = {}\n",
    "    nonzero_dbs = []\n",
    "\n",
    "    for db in dbs:\n",
    "        file_name = 'noChildren.breakdown.interesting_rank_terms.nectar.tsv'\n",
    "        file_data = glob(dir_path + file_name)[0]\n",
    "        df = pd.read_csv(file_data, sep='\\t')\n",
    "        df = df[(df['p.adjust'] < p_cutoff) & (df['Count'] >= count_cutoff)]\n",
    "\n",
    "        if not df.empty:\n",
    "            df['GOfull'] = df['Description']\n",
    "            df['logpval'] = -np.log10(df['pvalue'])\n",
    "            DF_dbs[db] = df\n",
    "            nonzero_dbs.append(db)\n",
    "\n",
    "    return DF_dbs, nonzero_dbs"
   ]
  },
  {
   "cell_type": "code",
   "execution_count": null,
   "id": "754b4ad8",
   "metadata": {},
   "outputs": [],
   "source": [
    "def plot_cp_barplots(DF_dbs, nonzero_dbs):\n",
    "    fig, axes = plt.subplots(len(nonzero_dbs), 1, gridspec_kw={'height_ratios': [DF_dbs[db].shape[0] for db in nonzero_dbs]}, \n",
    "                             figsize=(4, 20*len(nonzero_dbs)))\n",
    "\n",
    "    for i, db in enumerate(nonzero_dbs):\n",
    "        try:\n",
    "            ax = axes[i]\n",
    "        except TypeError:\n",
    "            ax = axes\n",
    "\n",
    "        dfi = DF_dbs[db]\n",
    "        sns.scatterplot(ax=ax, data=dfi, x='logpval', y='GOfull', size='ratio',\n",
    "                        sizes=(50, 150), color='purple', alpha=0.7, linewidth=0)\n",
    "        ax.set(xlim=(1, 3), ylabel='')\n",
    "        ax.set_title(db)\n",
    "        ax.legend([], [], frameon=False)\n",
    "    \n",
    "    sns.despine()\n",
    "    fig.subplots_adjust(bottom=0, top=0.6, wspace=0, hspace=0.6)\n",
    "    fig.tight_layout()\n",
    "    # pdf_name = '.pdf'\n",
    "    # fig.savefig(pdf_name, bbox_inches='tight')"
   ]
  },
  {
   "cell_type": "markdown",
   "id": "7a310220",
   "metadata": {},
   "source": [
    "### 3.1. Plot breakdown "
   ]
  },
  {
   "cell_type": "code",
   "execution_count": null,
   "id": "1ad5a1d6",
   "metadata": {},
   "outputs": [],
   "source": [
    "DBS = ['breakdown']\n",
    "DF_dbs, nonzero_dbs = load_and_process_cp_data(DBS, ABSREL_DIR_PATH, p_cutoff=1, count_cutoff=3)\n",
    "plot_cp_barplots(DF_dbs, nonzero_dbs)"
   ]
  },
  {
   "cell_type": "markdown",
   "id": "c704f698",
   "metadata": {},
   "source": [
    "### 3.2. Plot representative GO"
   ]
  },
  {
   "cell_type": "code",
   "execution_count": null,
   "id": "turkish-essence",
   "metadata": {},
   "outputs": [],
   "source": [
    "def plot_representative_go(dbs, dir_path, target):\n",
    "    DF_dbs = {}\n",
    "    nonzero_dbs = []\n",
    "\n",
    "    for db in dbs:\n",
    "        file_name = 'noChildren.goenrich.nectar.not_control.4way.breakdown.p0.01.tsv'\n",
    "        file_data = glob(dir_path + file_name)[0]\n",
    "        df = pd.read_csv(file_data, sep='\\t')\n",
    "        \n",
    "        if not df.empty:\n",
    "            df['GOfull'] = df['Description']\n",
    "            df['logpval'] = np.log10(df['pvalue'])\n",
    "            DF_dbs[db] = df\n",
    "            nonzero_dbs.append(db)\n",
    "\n",
    "    fig, axes = plt.subplots(len(nonzero_dbs), 1, gridspec_kw={'height_ratios': [DF_dbs[db].shape[0] for db in nonzero_dbs]}, \n",
    "                             figsize=(1, 16*len(nonzero_dbs)))\n",
    "\n",
    "    cmap_pval = sns.diverging_palette(285, 200, 100, as_cmap=True)\n",
    "    divnorm_pval = DivergingNorm(vmin=-3.5, vmax=0, vcenter=np.log10(0.051))\n",
    "\n",
    "    for i, db in enumerate(nonzero_dbs):\n",
    "        try:\n",
    "            ax = axes[i]\n",
    "        except TypeError:\n",
    "            ax = axes\n",
    "        dfi = DF_dbs[db]\n",
    "        dfi.set_index('GOfull', inplace=True)\n",
    "\n",
    "        sns.heatmap(ax=ax, data=dfi[['logpval']], cmap=cmap_pval, norm=divnorm_pval)\n",
    "        ax.set_title(f'rank {db}')\n",
    "        ax.set_ylabel('')\n",
    "        ax.set_xlabel('')\n",
    "        ax.legend([], [], frameon=False)\n",
    "\n",
    "    sns.despine()\n",
    "    fig.subplots_adjust(bottom=0, top=0.6, wspace=0, hspace=0.6)\n",
    "    fig.tight_layout()\n",
    "    # pdf_name = 'noChildren.noGOs.breakdown.interesting_rank_terms.nectar.pdf'\n",
    "    # fig.savefig(pdf_name, bbox_inches='tight')\n",
    "\n",
    "plot_representative_go(DBS, ABSREL_DIR_PATH, target='nectar')"
   ]
  },
  {
   "cell_type": "code",
   "execution_count": null,
   "id": "moderate-eclipse",
   "metadata": {},
   "outputs": [],
   "source": []
  },
  {
   "cell_type": "code",
   "execution_count": null,
   "id": "postal-donna",
   "metadata": {},
   "outputs": [],
   "source": []
  },
  {
   "cell_type": "code",
   "execution_count": null,
   "id": "loose-registrar",
   "metadata": {},
   "outputs": [],
   "source": []
  }
 ],
 "metadata": {
  "kernelspec": {
   "display_name": "Python 3",
   "language": "python",
   "name": "python3"
  },
  "language_info": {
   "codemirror_mode": {
    "name": "ipython",
    "version": 3
   },
   "file_extension": ".py",
   "mimetype": "text/x-python",
   "name": "python",
   "nbconvert_exporter": "python",
   "pygments_lexer": "ipython3",
   "version": "3.7.5"
  }
 },
 "nbformat": 4,
 "nbformat_minor": 5
}
