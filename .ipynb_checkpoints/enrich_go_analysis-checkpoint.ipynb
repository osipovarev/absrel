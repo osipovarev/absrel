{
 "cells": [
  {
   "cell_type": "code",
   "execution_count": 7,
   "id": "refined-synthesis",
   "metadata": {},
   "outputs": [],
   "source": [
    "%matplotlib inline\n",
    "import numpy as np\n",
    "from glob import glob\n",
    "import pandas as pd\n",
    "from matplotlib import pyplot as plt\n",
    "import seaborn as sns\n",
    "import matplotlib\n",
    "matplotlib.rcParams['pdf.fonttype'] = 42\n",
    "matplotlib.rcParams['ps.fonttype'] = 42\n",
    "from venn import venn\n",
    "from collections import Counter"
   ]
  },
  {
   "cell_type": "code",
   "execution_count": 6,
   "id": "medium-karen",
   "metadata": {},
   "outputs": [],
   "source": [
    "### load data\n",
    "dir_path = '/Users/osipova/Documents/LabDocs/NectarivoryProject/absrel/absrel_analysis_2024/v8_results/ClusterProfiler/'\n",
    "\n",
    "all_results = {}\n",
    "\n",
    "nectar_clades    = ['hmmbrds', 'honeyeaters', 'nectar_parrots', 'sunbirds']\n",
    "nonnectar_clades = ['swifts', 'falcons', 'lyrebirds', 'passerides']\n",
    "\n",
    "clades = nectar_clades + nonnectar_clades\n",
    "for clade in clades:\n",
    "    file_name = 'goenrich.{}.under_selection_per_clade_0.05.tsv'.format(clade)\n",
    "    file_data = glob(dir_path + file_name)[0]\n",
    "    df = pd.read_csv(file_data, sep='\\t')\n",
    "    all_results[clade] = df"
   ]
  },
  {
   "cell_type": "code",
   "execution_count": 14,
   "id": "correct-bidding",
   "metadata": {},
   "outputs": [
    {
     "name": "stdout",
     "output_type": "stream",
     "text": [
      "42\n",
      "214\n"
     ]
    }
   ],
   "source": [
    "### Count in how many groups each GO is present\n",
    "\n",
    "def count_gos(clades):\n",
    "    all_goids = []\n",
    "    for clade in clades:\n",
    "        all_goids.extend(all_results[clade]['ID'])\n",
    "    return Counter(all_goids)\n",
    "\n",
    "nonnectar_go_count = count_gos(nonnectar_clades)\n",
    "nectar_go_count = count_gos(nectar_clades)\n",
    "\n",
    "rank3_nonnectar_go = [k for k in nonnectar_go_count if nonnectar_go_count[k] >= 3]\n",
    "rank2_nectar_go = [k for k in nectar_go_count if nectar_go_count[k] >= 2]\n",
    "print(len(rank3_nonnectar_go))\n",
    "print(len(rank2_nectar_go))\n"
   ]
  },
  {
   "cell_type": "code",
   "execution_count": null,
   "id": "periodic-status",
   "metadata": {},
   "outputs": [],
   "source": [
    "### Exclude control GO ids from target\n",
    "\n",
    "\n"
   ]
  },
  {
   "cell_type": "code",
   "execution_count": null,
   "id": "sustainable-craps",
   "metadata": {},
   "outputs": [],
   "source": []
  },
  {
   "cell_type": "code",
   "execution_count": null,
   "id": "quarterly-conviction",
   "metadata": {},
   "outputs": [],
   "source": []
  }
 ],
 "metadata": {
  "kernelspec": {
   "display_name": "Python 3",
   "language": "python",
   "name": "python3"
  },
  "language_info": {
   "codemirror_mode": {
    "name": "ipython",
    "version": 3
   },
   "file_extension": ".py",
   "mimetype": "text/x-python",
   "name": "python",
   "nbconvert_exporter": "python",
   "pygments_lexer": "ipython3",
   "version": "3.7.5"
  }
 },
 "nbformat": 4,
 "nbformat_minor": 5
}
