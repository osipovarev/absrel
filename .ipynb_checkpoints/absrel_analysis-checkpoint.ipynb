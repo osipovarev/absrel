{
 "cells": [
  {
   "cell_type": "code",
   "execution_count": 1,
   "id": "impaired-airport",
   "metadata": {},
   "outputs": [],
   "source": [
    "%matplotlib inline\n",
    "import numpy as np\n",
    "from glob import glob\n",
    "import pandas as pd\n",
    "from matplotlib import pyplot as plt\n",
    "import seaborn as sns\n",
    "import matplotlib\n",
    "matplotlib.rcParams['pdf.fonttype'] = 42\n",
    "matplotlib.rcParams['ps.fonttype'] = 42\n",
    "from venn import venn\n",
    "from collections import defaultdict\n",
    "import itertools\n",
    "from scipy.stats import mannwhitneyu\n",
    "from scipy.stats import ttest_ind\n",
    "from scipy.stats import f_oneway\n",
    "from adjustText import adjust_text\n",
    "import matplotlib.patches as mpatches\n",
    "from upsetplot import plot"
   ]
  },
  {
   "cell_type": "markdown",
   "id": "1b9ec54f",
   "metadata": {},
   "source": [
    "# aBSREL analysis"
   ]
  },
  {
   "cell_type": "markdown",
   "id": "5e1fe92c",
   "metadata": {},
   "source": [
    "## 1. Read absrel final table"
   ]
  },
  {
   "cell_type": "code",
   "execution_count": 2,
   "id": "adverse-addiction",
   "metadata": {
    "scrolled": true
   },
   "outputs": [
    {
     "data": {
      "text/html": [
       "<div>\n",
       "<style scoped>\n",
       "    .dataframe tbody tr th:only-of-type {\n",
       "        vertical-align: middle;\n",
       "    }\n",
       "\n",
       "    .dataframe tbody tr th {\n",
       "        vertical-align: top;\n",
       "    }\n",
       "\n",
       "    .dataframe thead th {\n",
       "        text-align: right;\n",
       "    }\n",
       "</style>\n",
       "<table border=\"1\" class=\"dataframe\">\n",
       "  <thead>\n",
       "    <tr style=\"text-align: right;\">\n",
       "      <th></th>\n",
       "      <th>gene</th>\n",
       "      <th>trans</th>\n",
       "      <th>default</th>\n",
       "      <th>mh</th>\n",
       "      <th>srv</th>\n",
       "      <th>srv_mh</th>\n",
       "      <th>branch</th>\n",
       "      <th>pval_default</th>\n",
       "      <th>pval_srv</th>\n",
       "      <th>pval_mh</th>\n",
       "      <th>...</th>\n",
       "      <th>s_default</th>\n",
       "      <th>s_mh</th>\n",
       "      <th>s_srv</th>\n",
       "      <th>s_srv_mh</th>\n",
       "      <th>s_sum</th>\n",
       "      <th>w_default</th>\n",
       "      <th>w_mh</th>\n",
       "      <th>w_srv</th>\n",
       "      <th>w_srv_mh</th>\n",
       "      <th>pval</th>\n",
       "    </tr>\n",
       "  </thead>\n",
       "  <tbody>\n",
       "    <tr>\n",
       "      <th>0</th>\n",
       "      <td>A1CF</td>\n",
       "      <td>A1CF_ENSGALT00000057851.2</td>\n",
       "      <td>25172.56</td>\n",
       "      <td>25463.31</td>\n",
       "      <td>24498.38</td>\n",
       "      <td>NaN</td>\n",
       "      <td>HLacaPus1</td>\n",
       "      <td>1.0</td>\n",
       "      <td>1.0</td>\n",
       "      <td>1.0</td>\n",
       "      <td>...</td>\n",
       "      <td>4.014885e-147</td>\n",
       "      <td>2.938413e-210</td>\n",
       "      <td>1.0</td>\n",
       "      <td>0.0</td>\n",
       "      <td>1.0</td>\n",
       "      <td>4.014885e-147</td>\n",
       "      <td>2.938413e-210</td>\n",
       "      <td>1.0</td>\n",
       "      <td>0.0</td>\n",
       "      <td>1.0</td>\n",
       "    </tr>\n",
       "    <tr>\n",
       "      <th>1</th>\n",
       "      <td>A1CF</td>\n",
       "      <td>A1CF_ENSGALT00000057851.2</td>\n",
       "      <td>25172.56</td>\n",
       "      <td>25463.31</td>\n",
       "      <td>24498.38</td>\n",
       "      <td>NaN</td>\n",
       "      <td>HLacaPus1_HLparPun1</td>\n",
       "      <td>1.0</td>\n",
       "      <td>1.0</td>\n",
       "      <td>1.0</td>\n",
       "      <td>...</td>\n",
       "      <td>4.014885e-147</td>\n",
       "      <td>2.938413e-210</td>\n",
       "      <td>1.0</td>\n",
       "      <td>0.0</td>\n",
       "      <td>1.0</td>\n",
       "      <td>4.014885e-147</td>\n",
       "      <td>2.938413e-210</td>\n",
       "      <td>1.0</td>\n",
       "      <td>0.0</td>\n",
       "      <td>1.0</td>\n",
       "    </tr>\n",
       "    <tr>\n",
       "      <th>2</th>\n",
       "      <td>A1CF</td>\n",
       "      <td>A1CF_ENSGALT00000057851.2</td>\n",
       "      <td>25172.56</td>\n",
       "      <td>25463.31</td>\n",
       "      <td>24498.38</td>\n",
       "      <td>NaN</td>\n",
       "      <td>HLamaAes1</td>\n",
       "      <td>1.0</td>\n",
       "      <td>1.0</td>\n",
       "      <td>1.0</td>\n",
       "      <td>...</td>\n",
       "      <td>4.014885e-147</td>\n",
       "      <td>2.938413e-210</td>\n",
       "      <td>1.0</td>\n",
       "      <td>0.0</td>\n",
       "      <td>1.0</td>\n",
       "      <td>4.014885e-147</td>\n",
       "      <td>2.938413e-210</td>\n",
       "      <td>1.0</td>\n",
       "      <td>0.0</td>\n",
       "      <td>1.0</td>\n",
       "    </tr>\n",
       "    <tr>\n",
       "      <th>3</th>\n",
       "      <td>A1CF</td>\n",
       "      <td>A1CF_ENSGALT00000057851.2</td>\n",
       "      <td>25172.56</td>\n",
       "      <td>25463.31</td>\n",
       "      <td>24498.38</td>\n",
       "      <td>NaN</td>\n",
       "      <td>HLamaAes1_HLaraSol1</td>\n",
       "      <td>1.0</td>\n",
       "      <td>1.0</td>\n",
       "      <td>1.0</td>\n",
       "      <td>...</td>\n",
       "      <td>4.014885e-147</td>\n",
       "      <td>2.938413e-210</td>\n",
       "      <td>1.0</td>\n",
       "      <td>0.0</td>\n",
       "      <td>1.0</td>\n",
       "      <td>4.014885e-147</td>\n",
       "      <td>2.938413e-210</td>\n",
       "      <td>1.0</td>\n",
       "      <td>0.0</td>\n",
       "      <td>1.0</td>\n",
       "    </tr>\n",
       "    <tr>\n",
       "      <th>4</th>\n",
       "      <td>A1CF</td>\n",
       "      <td>A1CF_ENSGALT00000057851.2</td>\n",
       "      <td>25172.56</td>\n",
       "      <td>25463.31</td>\n",
       "      <td>24498.38</td>\n",
       "      <td>NaN</td>\n",
       "      <td>HLamaAes1_HLnymHol2</td>\n",
       "      <td>1.0</td>\n",
       "      <td>1.0</td>\n",
       "      <td>1.0</td>\n",
       "      <td>...</td>\n",
       "      <td>4.014885e-147</td>\n",
       "      <td>2.938413e-210</td>\n",
       "      <td>1.0</td>\n",
       "      <td>0.0</td>\n",
       "      <td>1.0</td>\n",
       "      <td>4.014885e-147</td>\n",
       "      <td>2.938413e-210</td>\n",
       "      <td>1.0</td>\n",
       "      <td>0.0</td>\n",
       "      <td>1.0</td>\n",
       "    </tr>\n",
       "  </tbody>\n",
       "</table>\n",
       "<p>5 rows × 22 columns</p>\n",
       "</div>"
      ],
      "text/plain": [
       "   gene                      trans   default        mh       srv  srv_mh  \\\n",
       "0  A1CF  A1CF_ENSGALT00000057851.2  25172.56  25463.31  24498.38     NaN   \n",
       "1  A1CF  A1CF_ENSGALT00000057851.2  25172.56  25463.31  24498.38     NaN   \n",
       "2  A1CF  A1CF_ENSGALT00000057851.2  25172.56  25463.31  24498.38     NaN   \n",
       "3  A1CF  A1CF_ENSGALT00000057851.2  25172.56  25463.31  24498.38     NaN   \n",
       "4  A1CF  A1CF_ENSGALT00000057851.2  25172.56  25463.31  24498.38     NaN   \n",
       "\n",
       "                branch  pval_default  pval_srv  pval_mh  ...      s_default  \\\n",
       "0            HLacaPus1           1.0       1.0      1.0  ...  4.014885e-147   \n",
       "1  HLacaPus1_HLparPun1           1.0       1.0      1.0  ...  4.014885e-147   \n",
       "2            HLamaAes1           1.0       1.0      1.0  ...  4.014885e-147   \n",
       "3  HLamaAes1_HLaraSol1           1.0       1.0      1.0  ...  4.014885e-147   \n",
       "4  HLamaAes1_HLnymHol2           1.0       1.0      1.0  ...  4.014885e-147   \n",
       "\n",
       "            s_mh  s_srv  s_srv_mh  s_sum      w_default           w_mh  w_srv  \\\n",
       "0  2.938413e-210    1.0       0.0    1.0  4.014885e-147  2.938413e-210    1.0   \n",
       "1  2.938413e-210    1.0       0.0    1.0  4.014885e-147  2.938413e-210    1.0   \n",
       "2  2.938413e-210    1.0       0.0    1.0  4.014885e-147  2.938413e-210    1.0   \n",
       "3  2.938413e-210    1.0       0.0    1.0  4.014885e-147  2.938413e-210    1.0   \n",
       "4  2.938413e-210    1.0       0.0    1.0  4.014885e-147  2.938413e-210    1.0   \n",
       "\n",
       "   w_srv_mh  pval  \n",
       "0       0.0   1.0  \n",
       "1       0.0   1.0  \n",
       "2       0.0   1.0  \n",
       "3       0.0   1.0  \n",
       "4       0.0   1.0  \n",
       "\n",
       "[5 rows x 22 columns]"
      ]
     },
     "execution_count": 2,
     "metadata": {},
     "output_type": "execute_result"
    }
   ],
   "source": [
    "# dir_path = '/Users/osipova/Documents/LabDocs/NectarivoryProject/absrel/absrel_analysis_2024/v8_results/'\n",
    "# dir_path = '/Users/osipova/Documents/LabDocs/NectarivoryProject/absrel/absrel_analysis_2024/v58_results/'\n",
    "# dir_path = '/Users/osipova/Documents/LabDocs/NectarivoryProject/absrel/absrel_analysis_2024/v58_srv_results/'\n",
    "# dir_path = '/Users/osipova/Documents/LabDocs/NectarivoryProject/absrel/absrel_analysis_2024/combined_default_srv_mh/'\n",
    "dir_path = '/Users/osipova/Documents/LabDocs/NectarivoryProject/absrel/absrel_analysis_2024/weighted_default_srv_mh/'\n",
    "\n",
    "# file_name = 'validated.all.genes.pval.table.tsv'\n",
    "file_name = 'all.genes.pval.table.tsv'\n",
    "# file_name = 'combined.all.genes.pval.table.v58.tsv'\n",
    "\n",
    "file_data = glob(dir_path + file_name)[0]\n",
    "pval_tab = pd.read_csv(file_data, sep='\\t')\n",
    "\n",
    "pval_tab.head()"
   ]
  },
  {
   "cell_type": "markdown",
   "id": "57e3c0ae",
   "metadata": {},
   "source": [
    "## 2. Define groups of species: nectar vs control"
   ]
  },
  {
   "cell_type": "code",
   "execution_count": 3,
   "id": "defined-emission",
   "metadata": {},
   "outputs": [],
   "source": [
    "# core nectar groups\n",
    "hmmbrds = [\"HLcalAnn5\", \"HLfloFus1\", \"HLphaSup1\", \"HLfloFus1_HLcalAnn5\", \"HLfloFus1_HLphaSup1\"]\n",
    "honeyeaters = [\"HLlicMelCas1\", \"HLphyNov1\", \"HLgraPic1\", \"HLlicPen1\",\n",
    "             \"HLlicMelCas1_HLgraPic1\", \"HLlicMelCas1_HLlicPen1\", \"HLlicMelCas1_HLphyNov1\"]\n",
    "# sunbirds = [\"HLcinPul1\", \"HLlepAsp1\", \"HLlepAsp1_HLcinPul1\", \"HLdicExi1\", \"HLlepAsp1_HLdicExi1\"]\n",
    "sunbirds = [\"HLlepAsp1\", \"HLdicExi1\", \"HLlepAsp1_HLdicExi1\"]\n",
    "nectar_parrots = [\"HLtriMol2\", \"HLlorGal1\", \"HLamaAes1\", \"HLaraSol1\",\n",
    "          \"HLamaAes1_HLaraSol1\", \"HLtriMol2_HLlorGal1\", \"HLamaAes1_HLtriMol2\"]\n",
    "\n",
    "# core nonnectar groups\n",
    "swifts = ['HLapuApu1', 'HLchaPel1', 'HLchaPel1_HLapuApu1']\n",
    "falcons = ['falPer1', 'falChe1', 'HLfalTin1', 'falPer1_falChe1', 'falPer1_HLfalTin1']\n",
    "lyrebirds = ['HLatrCla1', 'HLmenNov1', 'HLatrCla1_HLmenNov1']\n",
    "passerides = ['HLtaeGut4', 'pseHum1', 'ficAlb2', 'HLmelMel1_ficAlb2', 'HLparMaj1_pseHum1', \n",
    "              'HLmelMel1_HLparMaj1', 'HLmelMel1_HLtaeGut4', 'HLmelMel1_HLlepAsp1']\n",
    "\n",
    "# ambiguous groups\n",
    "songbirds = [\"HLacaPus1\", \"HLacaPus1_HLparPun1\", \"HLlicMelCas1_HLacaPus1\",\n",
    "             \"HLmalEle1\", \"HLmalCya1\", \"HLmalCya1_HLmalEle1\", \"HLcliRuf1\"]\n",
    "parrots_rest = [\"HLnymHol2\", \"HLstrHab1\", \"HLamaAes1_HLnymHol2\", \"HLamaAes1_HLstrHab1\"]\n",
    "passerins = [\"HLserCan1\", \"HLmelMel1\", \"HLmelMel1_HLserCan1\", \"HLparMaj1\"]\n",
    "flycatcher = [\"HLempTra1\"]\n",
    "pardalote = [\"HLparPun1\"]\n",
    "\n",
    "# nectar_br = hmmbrds + honeyeaters + pardalote + sunbirds + nectar_parrots\n",
    "nectar_br = hmmbrds + honeyeaters + sunbirds + nectar_parrots\n",
    "nonnectar = swifts + falcons + lyrebirds + passerides\n",
    "ambiguous = parrots_rest + passerins + songbirds + flycatcher + pardalote"
   ]
  },
  {
   "cell_type": "markdown",
   "id": "2567a18d",
   "metadata": {},
   "source": [
    "## 3. Calculate target (=relevance) ratio:\n",
    "### Ratio = N target branches under selection / N total branches under selection"
   ]
  },
  {
   "cell_type": "markdown",
   "id": "f0ab4c49",
   "metadata": {},
   "source": [
    "### Make gene dictionary: gene : percent of nectar takers under positive selection"
   ]
  },
  {
   "cell_type": "code",
   "execution_count": 4,
   "id": "fluid-latex",
   "metadata": {},
   "outputs": [],
   "source": [
    "## Keep only genes where at least one transcript has signal of selection (P < threshold) \n",
    "# pval_thresh = 0.05\n",
    "\n",
    "# # Drop transc column; leave significant pvalues: <= threshold; group by gene\n",
    "# df = pval_tab.drop('trans', axis=1).loc[pval_tab['pval'] <= pval_thresh].groupby('gene')\n",
    "# gene_dict = dict(tuple(df))"
   ]
  },
  {
   "cell_type": "code",
   "execution_count": 92,
   "id": "bc15ce2d",
   "metadata": {},
   "outputs": [],
   "source": [
    "## Keep only genes where at least 33% of transcripts have signal of selection (P < threshold)\n",
    "# pval_thresh = 0.05\n",
    "pval_thresh = 0.01\n",
    "\n",
    "## Group by gene: all transcripts\n",
    "pval_tab = pval_tab[['gene', 'trans', 'branch', 'pval']]\n",
    "\n",
    "## Keep genes where at least 33% of transcripts have pval <= pval_thresh\n",
    "selected_genes = []\n",
    "for gene_branch, group in pval_tab.groupby(['gene', 'branch']):\n",
    "    n_total = len(group)\n",
    "    n_signif = (group['pval'] <= pval_thresh).sum()\n",
    "    if n_signif / n_total >= 0.33:\n",
    "        selected_genes.append(gene_branch[0])\n"
   ]
  },
  {
   "cell_type": "code",
   "execution_count": 93,
   "id": "754beb76",
   "metadata": {},
   "outputs": [],
   "source": [
    "## Now subset the original dataframe to only the selected genes\n",
    "df = pval_tab[(pval_tab['gene'].isin(selected_genes)) & (pval_tab['pval'] < pval_thresh)].drop('trans', axis=1).groupby('gene')\n",
    "gene_dict = dict(tuple(df))"
   ]
  },
  {
   "cell_type": "code",
   "execution_count": 94,
   "id": "thermal-zambia",
   "metadata": {},
   "outputs": [],
   "source": [
    "def calc_target_ratio(target, target_clades):\n",
    "    ## Takes target name and list of terget branches;\n",
    "    ## Outputs a dict with gene: (ratio, branches under selection)\n",
    "    \n",
    "    ratio_target_dict = {}\n",
    "    for g in gene_dict:\n",
    "        count_target = 0\n",
    "        count_out = 0\n",
    "        for branch in list(gene_dict[g].branch):\n",
    "            if branch in target_clades:\n",
    "                count_target += 1\n",
    "            if (branch not in target_clades ) and (branch not in ambiguous):\n",
    "                count_out += 1\n",
    "        if count_target != 0:\n",
    "            ratio_target = count_target / (count_target + count_out)\n",
    "            ratio_target_dict[g] = (ratio_target, set(gene_dict[g]['branch']))\n",
    "    return(ratio_target_dict)"
   ]
  },
  {
   "cell_type": "markdown",
   "id": "04123ac1",
   "metadata": {},
   "source": [
    "### Define target group (once!)"
   ]
  },
  {
   "cell_type": "code",
   "execution_count": 95,
   "id": "cosmetic-application",
   "metadata": {},
   "outputs": [],
   "source": [
    "# target = 'nonnectar'\n",
    "target = 'nectar'\n",
    "\n",
    "if target == 'nectar':\n",
    "    branches = nectar_br\n",
    "elif target == 'nonnectar':\n",
    "    branches = nonnectar\n",
    "\n",
    "## get relevance reatio for target bracnches\n",
    "ratio_target_dict = calc_target_ratio(target, branches)"
   ]
  },
  {
   "cell_type": "markdown",
   "id": "30a5b43e",
   "metadata": {},
   "source": [
    "### Plot Relevance Ratio"
   ]
  },
  {
   "cell_type": "code",
   "execution_count": 96,
   "id": "eleven-attack",
   "metadata": {},
   "outputs": [
    {
     "name": "stdout",
     "output_type": "stream",
     "text": [
      "/Users/osipova/Documents/LabDocs/NectarivoryProject/absrel/absrel_analysis_2024/weighted_default_srv_mh/0.01_ranked_genes_nectar_ratio.pdf\n"
     ]
    },
    {
     "name": "stderr",
     "output_type": "stream",
     "text": [
      "/Users/osipova/local/Homebrew/lib/python3.7/site-packages/seaborn/distributions.py:2619: FutureWarning: `distplot` is a deprecated function and will be removed in a future version. Please adapt your code to use either `displot` (a figure-level function with similar flexibility) or `histplot` (an axes-level function for histograms).\n",
      "  warnings.warn(msg, FutureWarning)\n"
     ]
    },
    {
     "data": {
      "image/png": "[encoded data removed]",
      "text/plain": [
       "<Figure size 288x288 with 1 Axes>"
      ]
     },
     "metadata": {
      "needs_background": "light"
     },
     "output_type": "display_data"
    }
   ],
   "source": [
    "all_ratio_values = [v[0] for v in ratio_target_dict.values()]\n",
    "fig, axes = plt.subplots(figsize=(4, 4))\n",
    "sns.distplot(all_ratio_values, bins=18, kde=False)\n",
    "\n",
    "axes.set_xlabel('ratio target branches positively selected (p={})'.format(pval_thresh))\n",
    "axes.set_ylabel('number of genes')\n",
    "axes.set_ylim(0, 800)\n",
    "\n",
    "sns.despine(bottom=False, left=False)\n",
    "fig.tight_layout()\n",
    "\n",
    "pdf_name = \"{}{}_ranked_genes_{}_ratio.pdf\".format(dir_path, pval_thresh, target)\n",
    "print(pdf_name)\n",
    "# fig.savefig(pdf_name, bbox_inches='tight')\n"
   ]
  },
  {
   "cell_type": "markdown",
   "id": "97497629",
   "metadata": {},
   "source": [
    "## 4. Output genes in dictionary that have target ratio above the threshold"
   ]
  },
  {
   "cell_type": "code",
   "execution_count": 97,
   "id": "operational-hammer",
   "metadata": {},
   "outputs": [
    {
     "name": "stdout",
     "output_type": "stream",
     "text": [
      "Number of genes above the 0.6 threshold is: 675\n"
     ]
    }
   ],
   "source": [
    "# threshold = 0.5\n",
    "threshold = 0.6\n",
    "count = 0\n",
    "\n",
    "out_dir = dir_path\n",
    "out_file_name = 'under_selection_ranked_genes_{}_{}.tsv'.format(threshold, target)\n",
    "out_file = out_dir + out_file_name\n",
    "\n",
    "filtered_genes = []\n",
    "with open(out_file, 'w') as ouf:\n",
    "    for k, v in ratio_target_dict.items():\n",
    "#     for k, v in sorted(ratio_target_dict.items(), key=lambda item: item[1]):\n",
    "        if (v[0] > threshold):\n",
    "            count += 1\n",
    "            filtered_genes.append(k)\n",
    "            out_line = '{}\\t{}\\t{}\\n'.format(k, v[0], ','.join(list(v[1])))\n",
    "            ouf.write(out_line)\n",
    "            #print('{}\\t{}'.format(k, v))\n",
    "\n",
    "print('Number of genes above the {} threshold is: {}'.format(threshold, count))"
   ]
  },
  {
   "cell_type": "markdown",
   "id": "5bb50cdb",
   "metadata": {},
   "source": [
    "## 5. Create filtered gene lists"
   ]
  },
  {
   "cell_type": "code",
   "execution_count": 98,
   "id": "powered-encounter",
   "metadata": {},
   "outputs": [],
   "source": [
    "if target == 'nectar':\n",
    "    fg_list = [hmmbrds, honeyeaters, nectar_parrots, sunbirds]\n",
    "    fg_names_list = ['hmmbrds', 'honeyeaters', 'nectar_parrots', 'sunbirds']\n",
    "\n",
    "elif target == 'nonnectar':\n",
    "    fg_list = [swifts, falcons, lyrebirds, passerides]\n",
    "    fg_names_list = ['swifts', 'falcons', 'lyrebirds', 'passerides']\n",
    "\n",
    "number_fg_in_clade = 1\n",
    "per_clade_genes = defaultdict(list)\n",
    "\n",
    "out_dir = dir_path\n",
    "out_file_name = 'under_selection_per_clade_{}.{}.tsv'.format(pval_thresh, target)\n",
    "out_file = out_dir + out_file_name\n",
    "\n",
    "with open(out_file, 'w') as ouf:\n",
    "    for i in range(len(fg_names_list)):\n",
    "        fg = fg_list[i]\n",
    "        fg_name = fg_names_list[i]\n",
    "        for g in filtered_genes:\n",
    "            branches = set(ratio_target_dict[g][1])\n",
    "            if len(list(set(fg) & branches)) >= number_fg_in_clade:\n",
    "                per_clade_genes[fg_name].append(g)\n",
    "                ouf.write('{}\\t{}\\t{}\\n'.format(fg_name, g, ','.join(ratio_target_dict[g][1])))"
   ]
  },
  {
   "cell_type": "markdown",
   "id": "a258f7d4",
   "metadata": {},
   "source": [
    "## 6. Plot intersection\n",
    "### Venn diagram"
   ]
  },
  {
   "cell_type": "code",
   "execution_count": 99,
   "id": "radical-deadline",
   "metadata": {},
   "outputs": [
    {
     "name": "stdout",
     "output_type": "stream",
     "text": [
      "/Users/osipova/Documents/LabDocs/NectarivoryProject/absrel/absrel_analysis_2024/weighted_default_srv_mh/venn_genes_p_0.01_nectar_ratio_greater0.6.pdf\n"
     ]
    },
    {
     "data": {
      "image/png": "[encoded data removed]",
      "text/plain": [
       "<Figure size 576x576 with 1 Axes>"
      ]
     },
     "metadata": {},
     "output_type": "display_data"
    }
   ],
   "source": [
    "# convert lists to sets\n",
    "for k in per_clade_genes:\n",
    "    per_clade_genes[k] = set(per_clade_genes[k])\n",
    "venn(per_clade_genes, cmap='plasma', alpha=0.3)\n",
    "\n",
    "pdf_name = \"{}venn_genes_p_{}_{}_ratio_greater{}.pdf\".format(dir_path, pval_thresh, target, threshold)\n",
    "print(pdf_name)\n",
    "# plt.savefig(\"{}fg_2branches.venn_genes_p_{}_nectar_ratio_{}.noReg.pdf\".format(dir_path, pval_thresh, threshold))\n",
    "# plt.savefig(\"{}venn_genes_p_{}_nectar_ratio_{}.noReg.pdf\".format(dir_path, pval_thresh, threshold))\n",
    "# plt.savefig(pdf_name)"
   ]
  },
  {
   "cell_type": "markdown",
   "id": "9f8bd20b",
   "metadata": {},
   "source": [
    "### Upset plot"
   ]
  },
  {
   "cell_type": "code",
   "execution_count": 100,
   "id": "497f02f7",
   "metadata": {},
   "outputs": [
    {
     "data": {
      "text/plain": [
       "{'matrix': <matplotlib.axes._subplots.AxesSubplot at 0x14c91be50>,\n",
       " 'shading': <matplotlib.axes._subplots.AxesSubplot at 0x14c226390>,\n",
       " 'totals': <matplotlib.axes._subplots.AxesSubplot at 0x1539d14d0>,\n",
       " 'intersections': <matplotlib.axes._subplots.AxesSubplot at 0x14c9d6650>}"
      ]
     },
     "execution_count": 100,
     "metadata": {},
     "output_type": "execute_result"
    },
    {
     "data": {
      "image/png": "[encoded data removed]",
      "text/plain": [
       "<Figure size 768x320 with 4 Axes>"
      ]
     },
     "metadata": {
      "needs_background": "light"
     },
     "output_type": "display_data"
    }
   ],
   "source": [
    "set1 = per_clade_genes['hmmbrds']\n",
    "set2 = per_clade_genes['honeyeaters']\n",
    "set3 = per_clade_genes['nectar_parrots']\n",
    "set4 = per_clade_genes['sunbirds']\n",
    "\n",
    "all_elems = set1.union(set2).union(set3).union(set4)\n",
    "df = pd.DataFrame([[e in set1, \n",
    "                    e in set2, \n",
    "                    e in set3,\n",
    "                    e in set4] for e in all_elems], columns = fg_names_list)\n",
    "dfi = df.groupby(fg_names_list).size()\n",
    "\n",
    "plot_size = 5\n",
    "fig = plt.figure(figsize=(10, 5))\n",
    "plot(dfi, fig=fig, orientation='horizontal', totals_plot_elements=plot_size, show_counts=True)    \n",
    "#     plt.savefig(\"{}nectar_intersection.upsetplot.pdf\".format(dir_path))\n",
    "\n"
   ]
  },
  {
   "cell_type": "markdown",
   "id": "9824a935",
   "metadata": {},
   "source": [
    "## 7. Check total branch length per group"
   ]
  },
  {
   "cell_type": "code",
   "execution_count": 41,
   "id": "roman-drawing",
   "metadata": {},
   "outputs": [
    {
     "data": {
      "image/png": "[encoded data removed]",
      "text/plain": [
       "<Figure size 288x288 with 1 Axes>"
      ]
     },
     "metadata": {
      "needs_background": "light"
     },
     "output_type": "display_data"
    }
   ],
   "source": [
    "\n",
    "BL_df = pd.DataFrame.from_dict({'group': ['hummingbirds',\n",
    "                           'honeyeaters', \n",
    "                           'parrots',\n",
    "                           'sunbirds',\n",
    "                           'swifts', \n",
    "                           'lyrebirds',\n",
    "                           'passerids',\n",
    "                           'falcons'],\n",
    "                 'branch_length': [0.18795759,\n",
    "                               0.11596274, \n",
    "                               0.15354985, \n",
    "                               0.1091534, \n",
    "                               0.1248886,\n",
    "                               0.1002603,\n",
    "                               0.20651251,\n",
    "                               0.09851877],\n",
    "                'branch_number': [5, 7, 7, 5, 3, 3, 8, 5],\n",
    "                'type': ['nectar']*4 + ['nonnectar']*4})\n",
    "\n",
    "BL_df['norm_BL'] = BL_df['branch_length'] / BL_df['branch_number']\n",
    "\n",
    "p = ['#ca0020', '#0571b0']\n",
    "sns.set_palette(p)\n",
    "fig, axes = plt.subplots(figsize=(4, 4))\n",
    "sns.stripplot(data=BL_df, x='type', y='norm_BL', dodge=True, jitter=0.15)\n",
    "\n",
    "\n",
    "axes.set_ylim(0, 0.08)\n",
    "axes.set_xlabel('')\n",
    "axes.set_ylabel('sum branch lengths / \\nnumber of branches')\n",
    "sns.despine(fig=None, ax=None, left=False, bottom=False, offset=None, trim=False)\n",
    "\n",
    "\n",
    "labels = []\n",
    "for x, y, l in zip(BL_df['type'], BL_df['norm_BL'], BL_df['group']):\n",
    "    if x == 'nectar':\n",
    "        x = 0\n",
    "        c = p[0]\n",
    "    elif x == 'nonnectar':\n",
    "        x = 1\n",
    "        c = p[1]\n",
    "    labels.append(axes.text(x=x, y=y, s=l, color=c, size=10))\n",
    "adjust_text(labels, ax=axes)\n",
    "\n",
    "fig.tight_layout()\n",
    "plot_name = 'total_branch_length_nectar_vs_nonnectar.pdf'\n",
    "# plt.savefig(plot_name, bbox_inches='tight')"
   ]
  },
  {
   "cell_type": "markdown",
   "id": "b912706e",
   "metadata": {},
   "source": [
    "## 9. Perform Fisher-exact test for convergence"
   ]
  },
  {
   "cell_type": "code",
   "execution_count": 2,
   "id": "negative-blast",
   "metadata": {},
   "outputs": [
    {
     "data": {
      "text/html": [
       "<div>\n",
       "<style scoped>\n",
       "    .dataframe tbody tr th:only-of-type {\n",
       "        vertical-align: middle;\n",
       "    }\n",
       "\n",
       "    .dataframe tbody tr th {\n",
       "        vertical-align: top;\n",
       "    }\n",
       "\n",
       "    .dataframe thead th {\n",
       "        text-align: right;\n",
       "    }\n",
       "</style>\n",
       "<table border=\"1\" class=\"dataframe\">\n",
       "  <thead>\n",
       "    <tr style=\"text-align: right;\">\n",
       "      <th></th>\n",
       "      <th>pair</th>\n",
       "      <th>type</th>\n",
       "      <th>value</th>\n",
       "      <th>count</th>\n",
       "    </tr>\n",
       "  </thead>\n",
       "  <tbody>\n",
       "    <tr>\n",
       "      <th>0</th>\n",
       "      <td>hmmbrds,honey</td>\n",
       "      <td>Odds Ratio</td>\n",
       "      <td>1.904119</td>\n",
       "      <td>2</td>\n",
       "    </tr>\n",
       "    <tr>\n",
       "      <th>1</th>\n",
       "      <td>hmmbrds,honey</td>\n",
       "      <td>Confidence Interval</td>\n",
       "      <td>1.236280</td>\n",
       "      <td>2</td>\n",
       "    </tr>\n",
       "    <tr>\n",
       "      <th>2</th>\n",
       "      <td>hmmbrds,honey</td>\n",
       "      <td>Confidence Interval</td>\n",
       "      <td>3.010500</td>\n",
       "      <td>2</td>\n",
       "    </tr>\n",
       "  </tbody>\n",
       "</table>\n",
       "</div>"
      ],
      "text/plain": [
       "            pair                 type     value  count\n",
       "0  hmmbrds,honey           Odds Ratio  1.904119      2\n",
       "1  hmmbrds,honey  Confidence Interval  1.236280      2\n",
       "2  hmmbrds,honey  Confidence Interval  3.010500      2"
      ]
     },
     "execution_count": 2,
     "metadata": {},
     "output_type": "execute_result"
    }
   ],
   "source": [
    "dir_path = '/Users/osipova/Documents/LabDocs/NectarivoryProject/absrel/absrel_analysis_2024/combined_default_srv_mh/'\n",
    "file_name = 'summary.matching_test_control.tsv'\n",
    "file_data = glob(dir_path + file_name)[0]\n",
    "df = pd.read_csv(file_data, sep='\\t')\n",
    "\n",
    "df['count'] = [len(i.split(',')) for i in df['pair']]\n",
    "df.head(3)"
   ]
  },
  {
   "cell_type": "code",
   "execution_count": 8,
   "id": "working-recommendation",
   "metadata": {},
   "outputs": [
    {
     "name": "stderr",
     "output_type": "stream",
     "text": [
      "/Users/osipova/local/Homebrew/lib/python3.7/site-packages/ipykernel_launcher.py:16: UserWarning: Boolean Series key will be reindexed to match DataFrame index.\n",
      "  app.launch_new_instance()\n",
      "/Users/osipova/local/Homebrew/lib/python3.7/site-packages/ipykernel_launcher.py:17: UserWarning: Boolean Series key will be reindexed to match DataFrame index.\n",
      "/Users/osipova/local/Homebrew/lib/python3.7/site-packages/ipykernel_launcher.py:18: UserWarning: Boolean Series key will be reindexed to match DataFrame index.\n",
      "/Users/osipova/local/Homebrew/lib/python3.7/site-packages/ipykernel_launcher.py:16: UserWarning: Boolean Series key will be reindexed to match DataFrame index.\n",
      "  app.launch_new_instance()\n",
      "/Users/osipova/local/Homebrew/lib/python3.7/site-packages/ipykernel_launcher.py:17: UserWarning: Boolean Series key will be reindexed to match DataFrame index.\n",
      "/Users/osipova/local/Homebrew/lib/python3.7/site-packages/ipykernel_launcher.py:18: UserWarning: Boolean Series key will be reindexed to match DataFrame index.\n",
      "/Users/osipova/local/Homebrew/lib/python3.7/site-packages/ipykernel_launcher.py:16: UserWarning: Boolean Series key will be reindexed to match DataFrame index.\n",
      "  app.launch_new_instance()\n",
      "/Users/osipova/local/Homebrew/lib/python3.7/site-packages/ipykernel_launcher.py:17: UserWarning: Boolean Series key will be reindexed to match DataFrame index.\n",
      "/Users/osipova/local/Homebrew/lib/python3.7/site-packages/ipykernel_launcher.py:18: UserWarning: Boolean Series key will be reindexed to match DataFrame index.\n"
     ]
    },
    {
     "data": {
      "image/png": "[encoded data removed]",
      "text/plain": [
       "<Figure size 648x345.6 with 3 Axes>"
      ]
     },
     "metadata": {
      "needs_background": "light"
     },
     "output_type": "display_data"
    }
   ],
   "source": [
    "fig, axes = plt.subplots(1, 3, figsize=(9, 4.8), gridspec_kw={'width_ratios': [6, 4, 1]})\n",
    "directions = [2, 3, 4]\n",
    "\n",
    "for i in range(3):\n",
    "    axi = axes[i]\n",
    "    d = directions[i]\n",
    "    dfi = df[(df['count'] == d)]\n",
    "    sns.scatterplot(ax=axi, data=dfi[dfi['type'] == 'Odds Ratio'], x='pair', y='value',\n",
    "                    color='black', s=100)\n",
    "#     axi.set_xticklabels(axi.get_xticklabels(), rotation=5)\n",
    "    \n",
    "    \n",
    "    for p in set(dfi['pair']):\n",
    "        ci_min = min(dfi[(dfi['pair'] == p)]['value'])\n",
    "        ci_max = max(dfi[(dfi['pair'] == p)]['value'])\n",
    "        odds = dfi[(dfi['pair'] == p) & (df['type'] == 'Odds Ratio')]['value']\n",
    "        ci = dfi[(dfi['pair'] == p) & (df['type'] != 'P-Value')]['value']\n",
    "        pval = list(dfi[(dfi['pair'] == p) & (df['type'] == 'P-Value')]['value'])[0]\n",
    "        axi.errorbar(x=p, y=ci, color='black')\n",
    "       \n",
    "        ## annotate with p-values\n",
    "#         axi.annotate(\"{:.1e}\".format(pval), (p, odds + 5))\n",
    "        axi.annotate(\"{:.6f}\".format(pval), (p, odds + 1))\n",
    "        \n",
    "#     axi.set_ylim(0.5, 9)\n",
    "    axi.set_ylim(0.5, 7)\n",
    "    axi.set_ylabel('odds ratio')\n",
    "    axi.set_xlabel('')\n",
    "    axi.axhline(y=1, color = \"red\", linestyle = \"dashed\")\n",
    "\n",
    "    axi.tick_params(axis='x', rotation=45)\n",
    "sns.despine(bottom=False, left=False)\n",
    "fig.tight_layout()\n",
    "\n",
    "pdf_name = 'summary_Fexact.convergence.odds_ci_pval.pdf'\n"
   ]
  },
  {
   "cell_type": "markdown",
   "id": "0546dbdf",
   "metadata": {},
   "source": [
    "## 10. Compare absrel versions"
   ]
  },
  {
   "cell_type": "code",
   "execution_count": 16,
   "id": "rising-preference",
   "metadata": {},
   "outputs": [
    {
     "name": "stdout",
     "output_type": "stream",
     "text": [
      "v8_cinPul/all.genes.pval.table.tsv\n",
      "v8/all.genes.pval.table.tsv\n",
      "v58/all.genes.pval.table.tsv\n",
      "v58_srv/all.genes.pval.table.tsv\n",
      "v58_mh/all.genes.pval.table.tsv\n",
      "v58_srv_mh/all.genes.pval.table.tsv\n"
     ]
    }
   ],
   "source": [
    "dir_path = '/Users/osipova/Documents/LabDocs/NectarivoryProject/absrel/absrel_analysis_2024/'\n",
    "\n",
    "versions = ['v8_cinPul', 'v8', 'v58', 'v58_srv', 'v58_mh', 'v58_srv_mh']\n",
    "all_results = {}\n",
    "\n",
    "for v in versions:\n",
    "    file_name = '{}/all.genes.pval.table.tsv'.format(v)\n",
    "    print(file_name)\n",
    "    file_data = glob(dir_path + file_name)[0]\n",
    "    pval_tab = pd.read_csv(file_data, sep='\\t')\n",
    "    all_results[v] = pval_tab"
   ]
  },
  {
   "cell_type": "code",
   "execution_count": 22,
   "id": "indie-garbage",
   "metadata": {},
   "outputs": [
    {
     "data": {
      "image/png": "[encoded data removed]",
      "text/plain": [
       "<Figure size 720x360 with 4 Axes>"
      ]
     },
     "metadata": {
      "needs_background": "light"
     },
     "output_type": "display_data"
    }
   ],
   "source": [
    "\n",
    "threshold = 0.05\n",
    "level = 'trans'\n",
    "# level = 'gene'\n",
    "\n",
    "sets_by_version = {}\n",
    "\n",
    "for v in versions:\n",
    "    sets_by_version[v] = set(all_results[v][all_results[v]['pval'] < threshold][level])\n",
    "\n",
    "# set5 = set(all_results['v58_srv'][all_results['v58_srv']['pval'] < threshold][level])\n",
    "# set6 = set(all_results['v58_mh'][all_results['v58_mh']['pval'] < threshold][level])\n",
    "# set7 = set(all_results['v58_srv_mh'][all_results['v58_srv_mh']['pval'] < threshold][level])\n",
    "# set4 = set(all_results['combined_default_srv_mh'][all_results['combined_default_srv_mh']['pval'] < threshold][level])\n",
    "\n",
    "# set1 = sets_by_version[versions[0]]\n",
    "# set2 = sets_by_version[versions[1]]\n",
    "# set3 = sets_by_version[versions[2]]\n",
    "\n",
    "set4 = sets_by_version[versions[2]]\n",
    "set5 = sets_by_version[versions[3]]\n",
    "set6 = sets_by_version[versions[4]]\n",
    "set7 = sets_by_version[versions[5]]\n",
    "\n",
    "## Compare v8_cinPul v8 v58\n",
    "# all_elems = set1.union(set2).union(set3)\n",
    "# df = pd.DataFrame([[e in set1, \n",
    "#                     e in set2, \n",
    "#                     e in set3] for e in all_elems], columns = versions[:3])\n",
    "# df_up = df.groupby(versions[:3]).size()\n",
    "\n",
    "\n",
    "## Compare default srv mh srv+mh\n",
    "all_elems = set4.union(set5).union(set6).union(set7)\n",
    "df = pd.DataFrame([[e in set4, \n",
    "                    e in set5, \n",
    "                    e in set6,\n",
    "                    e in set7] for e in all_elems], columns = versions[2:])\n",
    "df_up = df.groupby(versions[2:]).size()\n",
    "\n",
    "\n",
    "fig = plt.figure(figsize=(10, 5))\n",
    "plot(df_up, fig=fig, orientation='horizontal', element_size=None, totals_plot_elements=8)\n",
    "\n",
    "\n",
    "dir_path = '/Users/osipova/Documents/LabDocs/NectarivoryProject/absrel/absrel_analysis_2024/'\n",
    "# plt.savefig(\"{}{}.v8_cinPul.v8.v58.upsetplot.pdf\".format(dir_path, level))\n",
    "plt.savefig(\"{}{}.default.srv.mh.srv_mh.upsetplot.pdf\".format(dir_path, level))"
   ]
  },
  {
   "cell_type": "markdown",
   "id": "dd013368",
   "metadata": {},
   "source": [
    "# RELAX analysis"
   ]
  },
  {
   "cell_type": "code",
   "execution_count": 3,
   "id": "60268c54",
   "metadata": {},
   "outputs": [],
   "source": [
    "import warnings"
   ]
  },
  {
   "cell_type": "code",
   "execution_count": 2,
   "id": "cd82157c",
   "metadata": {},
   "outputs": [
    {
     "data": {
      "text/html": [
       "<div>\n",
       "<style scoped>\n",
       "    .dataframe tbody tr th:only-of-type {\n",
       "        vertical-align: middle;\n",
       "    }\n",
       "\n",
       "    .dataframe tbody tr th {\n",
       "        vertical-align: top;\n",
       "    }\n",
       "\n",
       "    .dataframe thead th {\n",
       "        text-align: right;\n",
       "    }\n",
       "</style>\n",
       "<table border=\"1\" class=\"dataframe\">\n",
       "  <thead>\n",
       "    <tr style=\"text-align: right;\">\n",
       "      <th></th>\n",
       "      <th>gene</th>\n",
       "      <th>transcript</th>\n",
       "      <th>branches</th>\n",
       "      <th>K</th>\n",
       "      <th>pvalue</th>\n",
       "      <th>run</th>\n",
       "    </tr>\n",
       "  </thead>\n",
       "  <tbody>\n",
       "    <tr>\n",
       "      <th>0</th>\n",
       "      <td>AADACL4L5</td>\n",
       "      <td>AADACL4L5_rna-XM_025142592.1</td>\n",
       "      <td>HLchaPel1_HLapuApu1</td>\n",
       "      <td>2.679841</td>\n",
       "      <td>1.557699e-03</td>\n",
       "      <td>1</td>\n",
       "    </tr>\n",
       "    <tr>\n",
       "      <th>1</th>\n",
       "      <td>AAREL</td>\n",
       "      <td>AAREL_rna-XM_015292890.2</td>\n",
       "      <td>HLlepAsp1,ficAlb2,HLaraSol1,HLmelMel1</td>\n",
       "      <td>0.861289</td>\n",
       "      <td>1.164501e-01</td>\n",
       "      <td>1</td>\n",
       "    </tr>\n",
       "    <tr>\n",
       "      <th>2</th>\n",
       "      <td>AAREL</td>\n",
       "      <td>AAREL_rna-XM_015292892.2</td>\n",
       "      <td>HLlepAsp1,ficAlb2,HLaraSol1,HLmelMel1</td>\n",
       "      <td>2.656527</td>\n",
       "      <td>3.733741e-08</td>\n",
       "      <td>1</td>\n",
       "    </tr>\n",
       "  </tbody>\n",
       "</table>\n",
       "</div>"
      ],
      "text/plain": [
       "        gene                    transcript  \\\n",
       "0  AADACL4L5  AADACL4L5_rna-XM_025142592.1   \n",
       "1      AAREL      AAREL_rna-XM_015292890.2   \n",
       "2      AAREL      AAREL_rna-XM_015292892.2   \n",
       "\n",
       "                                branches         K        pvalue  run  \n",
       "0                    HLchaPel1_HLapuApu1  2.679841  1.557699e-03    1  \n",
       "1  HLlepAsp1,ficAlb2,HLaraSol1,HLmelMel1  0.861289  1.164501e-01    1  \n",
       "2  HLlepAsp1,ficAlb2,HLaraSol1,HLmelMel1  2.656527  3.733741e-08    1  "
      ]
     },
     "execution_count": 2,
     "metadata": {},
     "output_type": "execute_result"
    }
   ],
   "source": [
    "dir_path = '/Users/osipova/Documents/LabDocs/NectarivoryProject/absrel/absrel_analysis_2024/combined_default_srv_mh/'\n",
    "file_name = 'all_relax_summary.tsv'\n",
    "file_data = glob(dir_path + file_name)[0]\n",
    "df = pd.read_csv(file_data, sep='\\t')\n",
    "df.head(3)"
   ]
  },
  {
   "cell_type": "markdown",
   "id": "ec394195",
   "metadata": {},
   "source": [
    "## 1. Plot distributions of 9 RELAX runs "
   ]
  },
  {
   "cell_type": "code",
   "execution_count": 6,
   "id": "d1f3e837",
   "metadata": {},
   "outputs": [
    {
     "data": {
      "image/png": "[encoded data removed]",
      "text/plain": [
       "<Figure size 1008x720 with 9 Axes>"
      ]
     },
     "metadata": {
      "needs_background": "light"
     },
     "output_type": "display_data"
    }
   ],
   "source": [
    "warnings.filterwarnings(\"ignore\")\n",
    "\n",
    "fig, axes = plt.subplots(3, 3, figsize=(14, 10))\n",
    "\n",
    "for i in range(9):\n",
    "    j = i // 3\n",
    "    k = i % 3\n",
    "    axi = axes[j][k]\n",
    "    \n",
    "    dfi = df[df['run'] == i+1]\n",
    "    sns.histplot(ax=axi, data=dfi, x='K', binwidth=1, alpha=0.3)\n",
    "    sns.histplot(ax=axi, data=dfi[dfi['pvalue']<0.05], binwidth=1, x='K')\n",
    "    sns.histplot(ax=axi, data=dfi[(dfi['pvalue']<0.05) & (df['K']<1)], binwidth=1, x='K', color='red')\n",
    "    \n",
    "    axi.set_ylim(0, 850)\n",
    "    axi.axvline(x=1, color='red', ls='--')\n",
    "    if j == 2:\n",
    "        axi.set_xlabel('K: relaxation or intensification parameter')\n",
    "    else:\n",
    "        axi.set_xlabel('')\n",
    "    if k == 0:\n",
    "        axi.set_ylabel('number of transcripts')\n",
    "    else:\n",
    "        axi.set_ylabel('')\n",
    "\n",
    "    # calcualte number of genes, transcripts with significant K<1\n",
    "    n_genes = len(set(dfi[(dfi['pvalue']<0.05) & (df['K']<1)]['gene']))\n",
    "    n_transc = len(set(dfi[(dfi['pvalue']<0.05) & (df['K']<1)]['transcript']))\n",
    "    axi.text(10, 200, '{} genes,\\n{} transcripts'.format(n_genes, n_transc))\n",
    "    axi.set_title('RELAX round {}'.format(i+1))\n",
    "    \n",
    "# add custom legend\n",
    "red_patch = mpatches.Patch(color='red', label='significant K<1')\n",
    "blue_patch = mpatches.Patch(color='#1f77b4', label='P<0.05')\n",
    "light_patch = mpatches.Patch(color='#aed6f1', label='P>=0.05')\n",
    "plt.legend(handles=[red_patch, blue_patch, light_patch])\n",
    "    \n",
    "sns.despine(bottom=False, left=False)\n",
    "fig.tight_layout()\n",
    "\n",
    "pdf_name = 'RELAX_summary_9_runs.histograms.pdf'\n",
    "# plt.savefig(pdf_name)"
   ]
  },
  {
   "cell_type": "markdown",
   "id": "a63c8441",
   "metadata": {},
   "source": [
    "### Check overlap between default vs SRV; SRV vs weighted models; "
   ]
  },
  {
   "cell_type": "code",
   "execution_count": 73,
   "id": "7fcd108c",
   "metadata": {},
   "outputs": [
    {
     "data": {
      "image/png": "[encoded data removed]",
      "text/plain": [
       "<Figure size 432x288 with 1 Axes>"
      ]
     },
     "metadata": {},
     "output_type": "display_data"
    }
   ],
   "source": [
    "from matplotlib_venn import venn2\n",
    "\n",
    "# venn_dict = {'all genes under selection': (1054, 247, 3857),\n",
    "#              'under selection in nectar': (377, 304, 653),\n",
    "#              'under selection in nonnectar': (348, 227, 439)}\n",
    "\n",
    "venn_dict = {'all genes under selection': (15, 5, 4089)}\n",
    "\n",
    "for i in venn_dict:\n",
    "#     venn = venn2(subsets=venn_dict[i], set_labels=('default', 'SRV'))\n",
    "    venn = venn2(subsets=venn_dict[i], set_labels=('SRV      ', 'weighted (4 models)'))\n",
    "    plt.title(i)\n",
    "    plt.show()"
   ]
  },
  {
   "cell_type": "markdown",
   "id": "f7f36c81",
   "metadata": {},
   "source": [
    "# Calculated weighted p-values for four models "
   ]
  },
  {
   "cell_type": "code",
   "execution_count": 2,
   "id": "d25283cb",
   "metadata": {},
   "outputs": [],
   "source": [
    "def read_table(file_path):\n",
    "    return pd.read_csv(file_path, sep='\\t')"
   ]
  },
  {
   "cell_type": "code",
   "execution_count": 3,
   "id": "5faf015a",
   "metadata": {},
   "outputs": [],
   "source": [
    "def calculate_weighted_p_value(weights, p_values):\n",
    "    return np.dot(weights, p_values)"
   ]
  },
  {
   "cell_type": "markdown",
   "id": "d303540c",
   "metadata": {},
   "source": [
    "## Read AICc values"
   ]
  },
  {
   "cell_type": "code",
   "execution_count": 4,
   "id": "c82d8086",
   "metadata": {},
   "outputs": [
    {
     "data": {
      "text/html": [
       "<div>\n",
       "<style scoped>\n",
       "    .dataframe tbody tr th:only-of-type {\n",
       "        vertical-align: middle;\n",
       "    }\n",
       "\n",
       "    .dataframe tbody tr th {\n",
       "        vertical-align: top;\n",
       "    }\n",
       "\n",
       "    .dataframe thead th {\n",
       "        text-align: right;\n",
       "    }\n",
       "</style>\n",
       "<table border=\"1\" class=\"dataframe\">\n",
       "  <thead>\n",
       "    <tr style=\"text-align: right;\">\n",
       "      <th></th>\n",
       "      <th>gene</th>\n",
       "      <th>trans</th>\n",
       "      <th>default</th>\n",
       "      <th>mh</th>\n",
       "      <th>srv</th>\n",
       "      <th>srv_mh</th>\n",
       "    </tr>\n",
       "  </thead>\n",
       "  <tbody>\n",
       "    <tr>\n",
       "      <th>0</th>\n",
       "      <td>A1CF</td>\n",
       "      <td>A1CF_ENSGALT00000057851.2</td>\n",
       "      <td>25172.56</td>\n",
       "      <td>25463.31</td>\n",
       "      <td>24498.38</td>\n",
       "      <td>NaN</td>\n",
       "    </tr>\n",
       "    <tr>\n",
       "      <th>1</th>\n",
       "      <td>A1CF</td>\n",
       "      <td>A1CF_rna-XM_003641458.4</td>\n",
       "      <td>24590.58</td>\n",
       "      <td>24899.83</td>\n",
       "      <td>23841.39</td>\n",
       "      <td>24164.13</td>\n",
       "    </tr>\n",
       "    <tr>\n",
       "      <th>2</th>\n",
       "      <td>A1CF</td>\n",
       "      <td>A1CF_rna-XM_015278705.2</td>\n",
       "      <td>21760.12</td>\n",
       "      <td>22068.15</td>\n",
       "      <td>21096.31</td>\n",
       "      <td>NaN</td>\n",
       "    </tr>\n",
       "  </tbody>\n",
       "</table>\n",
       "</div>"
      ],
      "text/plain": [
       "   gene                      trans   default        mh       srv    srv_mh\n",
       "0  A1CF  A1CF_ENSGALT00000057851.2  25172.56  25463.31  24498.38       NaN\n",
       "1  A1CF    A1CF_rna-XM_003641458.4  24590.58  24899.83  23841.39  24164.13\n",
       "2  A1CF    A1CF_rna-XM_015278705.2  21760.12  22068.15  21096.31       NaN"
      ]
     },
     "execution_count": 4,
     "metadata": {},
     "output_type": "execute_result"
    }
   ],
   "source": [
    "dir_path = '/Users/osipova/Documents/LabDocs/NectarivoryProject/absrel/absrel_analysis_2024/'\n",
    "aicc_file_path = 'AICc.v58_all.tsv'\n",
    "\n",
    "aicc_df = read_table(dir_path + aicc_file_path)\n",
    "# aicc_df = aicc_df[['gene', 'trans', 'default', 'srv']]\n",
    "aicc_df.head(3)"
   ]
  },
  {
   "cell_type": "markdown",
   "id": "00ae1631",
   "metadata": {},
   "source": [
    "## Read results for all four models"
   ]
  },
  {
   "cell_type": "code",
   "execution_count": 5,
   "id": "0994acb2",
   "metadata": {},
   "outputs": [],
   "source": [
    "gene_file = 'all.genes.pval.table.tsv'\n",
    "\n",
    "results_files = {'default': f'v58/{gene_file}',\n",
    "                 'mh':      f'v58_mh/{gene_file}',\n",
    "                 'srv':     f'v58_srv/{gene_file}',\n",
    "                 'srv_mh':  f'v58_srv_mh/{gene_file}'}\n",
    "\n",
    "# results_files = {'default': f'v58/{gene_file}',\n",
    "#                  'srv':     f'v58_srv/{gene_file}'}\n",
    "\n",
    "results_dfs = {model: read_table(dir_path + file_path) for model, file_path in results_files.items()}"
   ]
  },
  {
   "cell_type": "markdown",
   "id": "85432935",
   "metadata": {},
   "source": [
    "## Merge with AICc info"
   ]
  },
  {
   "cell_type": "code",
   "execution_count": 6,
   "id": "b0178f3b",
   "metadata": {},
   "outputs": [],
   "source": [
    "df_merged_1 = pd.merge(aicc_df, results_dfs['default'], on=['trans', 'gene'], how='left')"
   ]
  },
  {
   "cell_type": "code",
   "execution_count": 7,
   "id": "fe02425e",
   "metadata": {},
   "outputs": [],
   "source": [
    "df_merged_2 = pd.merge(df_merged_1, results_dfs['srv'], on=['trans', 'gene', 'branch'], \n",
    "                       how='left', suffixes=('_default', '_srv'))"
   ]
  },
  {
   "cell_type": "code",
   "execution_count": 8,
   "id": "43453955",
   "metadata": {},
   "outputs": [],
   "source": [
    "df_merged_3 = pd.merge(df_merged_2, results_dfs['mh'], on=['trans', 'gene', 'branch'], \n",
    "                       how='left', suffixes=('', '_mh')) "
   ]
  },
  {
   "cell_type": "code",
   "execution_count": 9,
   "id": "3d6e349e",
   "metadata": {},
   "outputs": [],
   "source": [
    "merged_results = pd.merge(df_merged_3, results_dfs['srv_mh'], on=['trans', 'gene', 'branch'], \n",
    "                       how='left', suffixes=('', '_srv_mh'))"
   ]
  },
  {
   "cell_type": "code",
   "execution_count": 10,
   "id": "55175b2d",
   "metadata": {},
   "outputs": [
    {
     "data": {
      "text/html": [
       "<div>\n",
       "<style scoped>\n",
       "    .dataframe tbody tr th:only-of-type {\n",
       "        vertical-align: middle;\n",
       "    }\n",
       "\n",
       "    .dataframe tbody tr th {\n",
       "        vertical-align: top;\n",
       "    }\n",
       "\n",
       "    .dataframe thead th {\n",
       "        text-align: right;\n",
       "    }\n",
       "</style>\n",
       "<table border=\"1\" class=\"dataframe\">\n",
       "  <thead>\n",
       "    <tr style=\"text-align: right;\">\n",
       "      <th></th>\n",
       "      <th>gene</th>\n",
       "      <th>trans</th>\n",
       "      <th>default</th>\n",
       "      <th>mh</th>\n",
       "      <th>srv</th>\n",
       "      <th>srv_mh</th>\n",
       "      <th>branch</th>\n",
       "      <th>pval_default</th>\n",
       "      <th>pval_srv</th>\n",
       "      <th>pval</th>\n",
       "      <th>pval_srv_mh</th>\n",
       "    </tr>\n",
       "  </thead>\n",
       "  <tbody>\n",
       "    <tr>\n",
       "      <th>0</th>\n",
       "      <td>A1CF</td>\n",
       "      <td>A1CF_ENSGALT00000057851.2</td>\n",
       "      <td>25172.56</td>\n",
       "      <td>25463.31</td>\n",
       "      <td>24498.38</td>\n",
       "      <td>NaN</td>\n",
       "      <td>HLacaPus1</td>\n",
       "      <td>1.0</td>\n",
       "      <td>1.0</td>\n",
       "      <td>1.0</td>\n",
       "      <td>NaN</td>\n",
       "    </tr>\n",
       "    <tr>\n",
       "      <th>1</th>\n",
       "      <td>A1CF</td>\n",
       "      <td>A1CF_ENSGALT00000057851.2</td>\n",
       "      <td>25172.56</td>\n",
       "      <td>25463.31</td>\n",
       "      <td>24498.38</td>\n",
       "      <td>NaN</td>\n",
       "      <td>HLacaPus1_HLparPun1</td>\n",
       "      <td>1.0</td>\n",
       "      <td>1.0</td>\n",
       "      <td>1.0</td>\n",
       "      <td>NaN</td>\n",
       "    </tr>\n",
       "    <tr>\n",
       "      <th>2</th>\n",
       "      <td>A1CF</td>\n",
       "      <td>A1CF_ENSGALT00000057851.2</td>\n",
       "      <td>25172.56</td>\n",
       "      <td>25463.31</td>\n",
       "      <td>24498.38</td>\n",
       "      <td>NaN</td>\n",
       "      <td>HLamaAes1</td>\n",
       "      <td>1.0</td>\n",
       "      <td>1.0</td>\n",
       "      <td>1.0</td>\n",
       "      <td>NaN</td>\n",
       "    </tr>\n",
       "  </tbody>\n",
       "</table>\n",
       "</div>"
      ],
      "text/plain": [
       "   gene                      trans   default        mh       srv  srv_mh  \\\n",
       "0  A1CF  A1CF_ENSGALT00000057851.2  25172.56  25463.31  24498.38     NaN   \n",
       "1  A1CF  A1CF_ENSGALT00000057851.2  25172.56  25463.31  24498.38     NaN   \n",
       "2  A1CF  A1CF_ENSGALT00000057851.2  25172.56  25463.31  24498.38     NaN   \n",
       "\n",
       "                branch  pval_default  pval_srv  pval  pval_srv_mh  \n",
       "0            HLacaPus1           1.0       1.0   1.0          NaN  \n",
       "1  HLacaPus1_HLparPun1           1.0       1.0   1.0          NaN  \n",
       "2            HLamaAes1           1.0       1.0   1.0          NaN  "
      ]
     },
     "execution_count": 10,
     "metadata": {},
     "output_type": "execute_result"
    }
   ],
   "source": [
    "merged_results.head(3)"
   ]
  },
  {
   "cell_type": "code",
   "execution_count": 11,
   "id": "74990c54",
   "metadata": {},
   "outputs": [
    {
     "data": {
      "text/html": [
       "<div>\n",
       "<style scoped>\n",
       "    .dataframe tbody tr th:only-of-type {\n",
       "        vertical-align: middle;\n",
       "    }\n",
       "\n",
       "    .dataframe tbody tr th {\n",
       "        vertical-align: top;\n",
       "    }\n",
       "\n",
       "    .dataframe thead th {\n",
       "        text-align: right;\n",
       "    }\n",
       "</style>\n",
       "<table border=\"1\" class=\"dataframe\">\n",
       "  <thead>\n",
       "    <tr style=\"text-align: right;\">\n",
       "      <th></th>\n",
       "      <th>gene</th>\n",
       "      <th>trans</th>\n",
       "      <th>default</th>\n",
       "      <th>mh</th>\n",
       "      <th>srv</th>\n",
       "      <th>srv_mh</th>\n",
       "      <th>branch</th>\n",
       "      <th>pval_default</th>\n",
       "      <th>pval_srv</th>\n",
       "      <th>pval_mh</th>\n",
       "      <th>pval_srv_mh</th>\n",
       "    </tr>\n",
       "  </thead>\n",
       "  <tbody>\n",
       "    <tr>\n",
       "      <th>0</th>\n",
       "      <td>A1CF</td>\n",
       "      <td>A1CF_ENSGALT00000057851.2</td>\n",
       "      <td>25172.56</td>\n",
       "      <td>25463.31</td>\n",
       "      <td>24498.38</td>\n",
       "      <td>NaN</td>\n",
       "      <td>HLacaPus1</td>\n",
       "      <td>1.0</td>\n",
       "      <td>1.0</td>\n",
       "      <td>1.0</td>\n",
       "      <td>NaN</td>\n",
       "    </tr>\n",
       "    <tr>\n",
       "      <th>1</th>\n",
       "      <td>A1CF</td>\n",
       "      <td>A1CF_ENSGALT00000057851.2</td>\n",
       "      <td>25172.56</td>\n",
       "      <td>25463.31</td>\n",
       "      <td>24498.38</td>\n",
       "      <td>NaN</td>\n",
       "      <td>HLacaPus1_HLparPun1</td>\n",
       "      <td>1.0</td>\n",
       "      <td>1.0</td>\n",
       "      <td>1.0</td>\n",
       "      <td>NaN</td>\n",
       "    </tr>\n",
       "    <tr>\n",
       "      <th>2</th>\n",
       "      <td>A1CF</td>\n",
       "      <td>A1CF_ENSGALT00000057851.2</td>\n",
       "      <td>25172.56</td>\n",
       "      <td>25463.31</td>\n",
       "      <td>24498.38</td>\n",
       "      <td>NaN</td>\n",
       "      <td>HLamaAes1</td>\n",
       "      <td>1.0</td>\n",
       "      <td>1.0</td>\n",
       "      <td>1.0</td>\n",
       "      <td>NaN</td>\n",
       "    </tr>\n",
       "  </tbody>\n",
       "</table>\n",
       "</div>"
      ],
      "text/plain": [
       "   gene                      trans   default        mh       srv  srv_mh  \\\n",
       "0  A1CF  A1CF_ENSGALT00000057851.2  25172.56  25463.31  24498.38     NaN   \n",
       "1  A1CF  A1CF_ENSGALT00000057851.2  25172.56  25463.31  24498.38     NaN   \n",
       "2  A1CF  A1CF_ENSGALT00000057851.2  25172.56  25463.31  24498.38     NaN   \n",
       "\n",
       "                branch  pval_default  pval_srv  pval_mh  pval_srv_mh  \n",
       "0            HLacaPus1           1.0       1.0      1.0          NaN  \n",
       "1  HLacaPus1_HLparPun1           1.0       1.0      1.0          NaN  \n",
       "2            HLamaAes1           1.0       1.0      1.0          NaN  "
      ]
     },
     "execution_count": 11,
     "metadata": {},
     "output_type": "execute_result"
    }
   ],
   "source": [
    "merged_results = merged_results.rename(columns = {'pval':'pval_mh'})\n",
    "merged_results.head(3)"
   ]
  },
  {
   "cell_type": "markdown",
   "id": "a33e9d8a",
   "metadata": {},
   "source": [
    "## Calculate weighted p-values"
   ]
  },
  {
   "cell_type": "code",
   "execution_count": 12,
   "id": "5a26a280",
   "metadata": {},
   "outputs": [
    {
     "data": {
      "text/html": [
       "<div>\n",
       "<style scoped>\n",
       "    .dataframe tbody tr th:only-of-type {\n",
       "        vertical-align: middle;\n",
       "    }\n",
       "\n",
       "    .dataframe tbody tr th {\n",
       "        vertical-align: top;\n",
       "    }\n",
       "\n",
       "    .dataframe thead th {\n",
       "        text-align: right;\n",
       "    }\n",
       "</style>\n",
       "<table border=\"1\" class=\"dataframe\">\n",
       "  <thead>\n",
       "    <tr style=\"text-align: right;\">\n",
       "      <th></th>\n",
       "      <th>gene</th>\n",
       "      <th>trans</th>\n",
       "      <th>default</th>\n",
       "      <th>mh</th>\n",
       "      <th>srv</th>\n",
       "      <th>srv_mh</th>\n",
       "      <th>branch</th>\n",
       "      <th>pval_default</th>\n",
       "      <th>pval_srv</th>\n",
       "      <th>pval_mh</th>\n",
       "      <th>...</th>\n",
       "      <th>s_default</th>\n",
       "      <th>s_mh</th>\n",
       "      <th>s_srv</th>\n",
       "      <th>s_srv_mh</th>\n",
       "      <th>s_sum</th>\n",
       "      <th>w_default</th>\n",
       "      <th>w_mh</th>\n",
       "      <th>w_srv</th>\n",
       "      <th>w_srv_mh</th>\n",
       "      <th>pval</th>\n",
       "    </tr>\n",
       "  </thead>\n",
       "  <tbody>\n",
       "    <tr>\n",
       "      <th>0</th>\n",
       "      <td>A1CF</td>\n",
       "      <td>A1CF_ENSGALT00000057851.2</td>\n",
       "      <td>25172.56</td>\n",
       "      <td>25463.31</td>\n",
       "      <td>24498.38</td>\n",
       "      <td>NaN</td>\n",
       "      <td>HLacaPus1</td>\n",
       "      <td>1.0</td>\n",
       "      <td>1.0</td>\n",
       "      <td>1.0</td>\n",
       "      <td>...</td>\n",
       "      <td>4.014885e-147</td>\n",
       "      <td>2.938413e-210</td>\n",
       "      <td>1.0</td>\n",
       "      <td>0.0</td>\n",
       "      <td>1.0</td>\n",
       "      <td>4.014885e-147</td>\n",
       "      <td>2.938413e-210</td>\n",
       "      <td>1.0</td>\n",
       "      <td>0.0</td>\n",
       "      <td>1.0</td>\n",
       "    </tr>\n",
       "    <tr>\n",
       "      <th>1</th>\n",
       "      <td>A1CF</td>\n",
       "      <td>A1CF_ENSGALT00000057851.2</td>\n",
       "      <td>25172.56</td>\n",
       "      <td>25463.31</td>\n",
       "      <td>24498.38</td>\n",
       "      <td>NaN</td>\n",
       "      <td>HLacaPus1_HLparPun1</td>\n",
       "      <td>1.0</td>\n",
       "      <td>1.0</td>\n",
       "      <td>1.0</td>\n",
       "      <td>...</td>\n",
       "      <td>4.014885e-147</td>\n",
       "      <td>2.938413e-210</td>\n",
       "      <td>1.0</td>\n",
       "      <td>0.0</td>\n",
       "      <td>1.0</td>\n",
       "      <td>4.014885e-147</td>\n",
       "      <td>2.938413e-210</td>\n",
       "      <td>1.0</td>\n",
       "      <td>0.0</td>\n",
       "      <td>1.0</td>\n",
       "    </tr>\n",
       "    <tr>\n",
       "      <th>2</th>\n",
       "      <td>A1CF</td>\n",
       "      <td>A1CF_ENSGALT00000057851.2</td>\n",
       "      <td>25172.56</td>\n",
       "      <td>25463.31</td>\n",
       "      <td>24498.38</td>\n",
       "      <td>NaN</td>\n",
       "      <td>HLamaAes1</td>\n",
       "      <td>1.0</td>\n",
       "      <td>1.0</td>\n",
       "      <td>1.0</td>\n",
       "      <td>...</td>\n",
       "      <td>4.014885e-147</td>\n",
       "      <td>2.938413e-210</td>\n",
       "      <td>1.0</td>\n",
       "      <td>0.0</td>\n",
       "      <td>1.0</td>\n",
       "      <td>4.014885e-147</td>\n",
       "      <td>2.938413e-210</td>\n",
       "      <td>1.0</td>\n",
       "      <td>0.0</td>\n",
       "      <td>1.0</td>\n",
       "    </tr>\n",
       "  </tbody>\n",
       "</table>\n",
       "<p>3 rows × 22 columns</p>\n",
       "</div>"
      ],
      "text/plain": [
       "   gene                      trans   default        mh       srv  srv_mh  \\\n",
       "0  A1CF  A1CF_ENSGALT00000057851.2  25172.56  25463.31  24498.38     NaN   \n",
       "1  A1CF  A1CF_ENSGALT00000057851.2  25172.56  25463.31  24498.38     NaN   \n",
       "2  A1CF  A1CF_ENSGALT00000057851.2  25172.56  25463.31  24498.38     NaN   \n",
       "\n",
       "                branch  pval_default  pval_srv  pval_mh  ...      s_default  \\\n",
       "0            HLacaPus1           1.0       1.0      1.0  ...  4.014885e-147   \n",
       "1  HLacaPus1_HLparPun1           1.0       1.0      1.0  ...  4.014885e-147   \n",
       "2            HLamaAes1           1.0       1.0      1.0  ...  4.014885e-147   \n",
       "\n",
       "            s_mh  s_srv  s_srv_mh  s_sum      w_default           w_mh  w_srv  \\\n",
       "0  2.938413e-210    1.0       0.0    1.0  4.014885e-147  2.938413e-210    1.0   \n",
       "1  2.938413e-210    1.0       0.0    1.0  4.014885e-147  2.938413e-210    1.0   \n",
       "2  2.938413e-210    1.0       0.0    1.0  4.014885e-147  2.938413e-210    1.0   \n",
       "\n",
       "   w_srv_mh  pval  \n",
       "0       0.0   1.0  \n",
       "1       0.0   1.0  \n",
       "2       0.0   1.0  \n",
       "\n",
       "[3 rows x 22 columns]"
      ]
     },
     "execution_count": 12,
     "metadata": {},
     "output_type": "execute_result"
    }
   ],
   "source": [
    "models = ['default', 'mh', 'srv', 'srv_mh']\n",
    "# models = ['default', 'srv']\n",
    "\n",
    "merged_results['min_aic'] = merged_results[models].min(axis=1)\n",
    "\n",
    "## Calculate AICc coefficients\n",
    "for m in models:\n",
    "    merged_results[f's_{m}'] = np.exp(0.5 * (merged_results['min_aic'] - merged_results[m])).fillna(0) \n",
    "\n",
    "## Calculate models weigths\n",
    "merged_results['s_sum'] = merged_results['s_default'] + \\\n",
    "                        merged_results['s_mh'] + \\\n",
    "                        merged_results['s_srv'] + \\\n",
    "                        merged_results['s_srv_mh'] \n",
    "for m in models:\n",
    "    merged_results[f'w_{m}'] = merged_results[f's_{m}'] / merged_results['s_sum']\n",
    "    \n",
    "## Calculate weighted p-values\n",
    "merged_results['pval'] = [0] * merged_results.shape[0]\n",
    "\n",
    "for m in models:\n",
    "    p = merged_results[f'pval_{m}'].fillna(1.0)\n",
    "    w = merged_results[f'w_{m}']\n",
    "    merged_results['pval'] += p * w\n",
    "\n",
    "merged_results.head(3)"
   ]
  },
  {
   "cell_type": "code",
   "execution_count": 13,
   "id": "a42f28f2",
   "metadata": {},
   "outputs": [],
   "source": [
    "merged_results.to_csv('weighted_4_models.all.genes.pval.table.tsv', index=False, sep='\\t')"
   ]
  },
  {
   "cell_type": "code",
   "execution_count": null,
   "id": "db4c9314",
   "metadata": {},
   "outputs": [],
   "source": []
  },
  {
   "cell_type": "markdown",
   "id": "423d5e07",
   "metadata": {},
   "source": [
    "# Assembly stats nectar vs control"
   ]
  },
  {
   "cell_type": "code",
   "execution_count": 55,
   "id": "c126e1bf",
   "metadata": {},
   "outputs": [
    {
     "data": {
      "text/html": [
       "<div>\n",
       "<style scoped>\n",
       "    .dataframe tbody tr th:only-of-type {\n",
       "        vertical-align: middle;\n",
       "    }\n",
       "\n",
       "    .dataframe tbody tr th {\n",
       "        vertical-align: top;\n",
       "    }\n",
       "\n",
       "    .dataframe thead th {\n",
       "        text-align: right;\n",
       "    }\n",
       "</style>\n",
       "<table border=\"1\" class=\"dataframe\">\n",
       "  <thead>\n",
       "    <tr style=\"text-align: right;\">\n",
       "      <th></th>\n",
       "      <th>Common name</th>\n",
       "      <th>group</th>\n",
       "      <th>subgroup</th>\n",
       "      <th>Contig N50</th>\n",
       "      <th>Scaffold N50</th>\n",
       "      <th>g_complete</th>\n",
       "      <th>g_fragmented</th>\n",
       "      <th>g_missing</th>\n",
       "      <th>a_complete</th>\n",
       "      <th>a_fragmented</th>\n",
       "      <th>a_missing</th>\n",
       "      <th>intact RF</th>\n",
       "    </tr>\n",
       "  </thead>\n",
       "  <tbody>\n",
       "    <tr>\n",
       "      <th>0</th>\n",
       "      <td>great tit</td>\n",
       "      <td>background</td>\n",
       "      <td>NaN</td>\n",
       "      <td>148693</td>\n",
       "      <td>71365269</td>\n",
       "      <td>96.4</td>\n",
       "      <td>1.0</td>\n",
       "      <td>2.6</td>\n",
       "      <td>98.97</td>\n",
       "      <td>0.43</td>\n",
       "      <td>0.60</td>\n",
       "      <td>12592</td>\n",
       "    </tr>\n",
       "    <tr>\n",
       "      <th>1</th>\n",
       "      <td>Tibetan ground-tit</td>\n",
       "      <td>control</td>\n",
       "      <td>sunbirds</td>\n",
       "      <td>165265</td>\n",
       "      <td>16337386</td>\n",
       "      <td>97.1</td>\n",
       "      <td>0.7</td>\n",
       "      <td>2.2</td>\n",
       "      <td>99.74</td>\n",
       "      <td>0.10</td>\n",
       "      <td>0.17</td>\n",
       "      <td>13382</td>\n",
       "    </tr>\n",
       "    <tr>\n",
       "      <th>2</th>\n",
       "      <td>song sparrow</td>\n",
       "      <td>background</td>\n",
       "      <td>NaN</td>\n",
       "      <td>181098</td>\n",
       "      <td>9239070</td>\n",
       "      <td>96.8</td>\n",
       "      <td>0.7</td>\n",
       "      <td>2.5</td>\n",
       "      <td>84.55</td>\n",
       "      <td>6.40</td>\n",
       "      <td>9.04</td>\n",
       "      <td>12379</td>\n",
       "    </tr>\n",
       "  </tbody>\n",
       "</table>\n",
       "</div>"
      ],
      "text/plain": [
       "          Common name       group  subgroup  Contig N50  Scaffold N50  \\\n",
       "0           great tit  background       NaN      148693      71365269   \n",
       "1  Tibetan ground-tit     control  sunbirds      165265      16337386   \n",
       "2        song sparrow  background       NaN      181098       9239070   \n",
       "\n",
       "   g_complete  g_fragmented  g_missing  a_complete  a_fragmented  a_missing  \\\n",
       "0        96.4           1.0        2.6       98.97          0.43       0.60   \n",
       "1        97.1           0.7        2.2       99.74          0.10       0.17   \n",
       "2        96.8           0.7        2.5       84.55          6.40       9.04   \n",
       "\n",
       "   intact RF  \n",
       "0      12592  \n",
       "1      13382  \n",
       "2      12379  "
      ]
     },
     "execution_count": 55,
     "metadata": {},
     "output_type": "execute_result"
    }
   ],
   "source": [
    "dir_path = '/Users/osipova/Documents/LabDocs/NectarivoryProject/Manuscript_Nectar_Genomics/'\n",
    "file_name = 'species_and_assemblies.nectar_project.stats.tsv'\n",
    "file_data = glob(dir_path + file_name)[0]\n",
    "df = pd.read_csv(file_data, sep='\\t')\n",
    "df.head(3)"
   ]
  },
  {
   "cell_type": "code",
   "execution_count": 62,
   "id": "7c7d282b",
   "metadata": {},
   "outputs": [
    {
     "data": {
      "image/png": "[encoded data removed]",
      "text/plain": [
       "<Figure size 792x288 with 5 Axes>"
      ]
     },
     "metadata": {
      "needs_background": "light"
     },
     "output_type": "display_data"
    }
   ],
   "source": [
    "stats = ['Contig N50', 'Scaffold N50', 'g_complete', 'a_complete', 'intact RF']\n",
    "\n",
    "fig, axes = plt.subplots(1, len(stats), figsize=(2.2*len(stats), 4))\n",
    "p = ['#4b99d0', '#f2aaa8']\n",
    "sns.set_palette(p)\n",
    "\n",
    "p_4colors = ['#e41a1c', '#377eb8', '#4daf4a', '#984ea3']\n",
    "\n",
    "for i in range(len(stats)):\n",
    "    axi = axes[i]\n",
    "    s = stats[i]\n",
    "    dfi = df[df['group'] != 'background']\n",
    "    \n",
    "    sns.boxplot(ax=axi, data=dfi, y=s, x='group')\n",
    "    sns.stripplot(ax=axi, data=dfi, y=s, x='group', hue='subgroup', s=6, linewidth=.6, palette=p_4colors)\n",
    "    \n",
    "    # adjust axes\n",
    "    axi.set_xlabel('')\n",
    "    if s.endswith('N50'):\n",
    "        axi.set(yscale=\"log\")\n",
    "    elif s.endswith('complete'):\n",
    "        axi.set_ylim(80, 100)\n",
    "    else:\n",
    "        axi.set_ylim(5000, 15000)\n",
    "    \n",
    "    # adjust legend\n",
    "    if i != 4:\n",
    "        axi.get_legend().set_visible(False)\n",
    "    else:\n",
    "        sns.move_legend(axi, \"upper left\", bbox_to_anchor=(1, 1))\n",
    "\n",
    "        \n",
    "sns.despine(bottom=False, left=False)\n",
    "fig.tight_layout()\n",
    "\n",
    "pdf_name = 'assembly_stats.nectar_vs_control.pdf'\n",
    "# fig.savefig(dir_path + pdf_name, bbox_inches='tight')"
   ]
  },
  {
   "cell_type": "code",
   "execution_count": null,
   "id": "310e8e93",
   "metadata": {},
   "outputs": [],
   "source": []
  }
 ],
 "metadata": {
  "kernelspec": {
   "display_name": "Python 3",
   "language": "python",
   "name": "python3"
  },
  "language_info": {
   "codemirror_mode": {
    "name": "ipython",
    "version": 3
   },
   "file_extension": ".py",
   "mimetype": "text/x-python",
   "name": "python",
   "nbconvert_exporter": "python",
   "pygments_lexer": "ipython3",
   "version": "3.7.5"
  }
 },
 "nbformat": 4,
 "nbformat_minor": 5
}
