{
 "cells": [
  {
   "cell_type": "code",
   "execution_count": 1,
   "id": "impaired-airport",
   "metadata": {},
   "outputs": [],
   "source": [
    "%matplotlib inline\n",
    "import numpy as np\n",
    "from glob import glob\n",
    "import pandas as pd\n",
    "from matplotlib import pyplot as plt\n",
    "import seaborn as sns\n",
    "import matplotlib\n",
    "matplotlib.rcParams['pdf.fonttype'] = 42\n",
    "matplotlib.rcParams['ps.fonttype'] = 42\n",
    "from venn import venn\n",
    "from collections import defaultdict\n",
    "import itertools\n",
    "from scipy.stats import mannwhitneyu\n",
    "from scipy.stats import ttest_ind\n",
    "from scipy.stats import f_oneway\n",
    "from adjustText import adjust_text"
   ]
  },
  {
   "cell_type": "code",
   "execution_count": 3,
   "id": "adverse-addiction",
   "metadata": {
    "scrolled": true
   },
   "outputs": [
    {
     "data": {
      "text/html": [
       "<div>\n",
       "<style scoped>\n",
       "    .dataframe tbody tr th:only-of-type {\n",
       "        vertical-align: middle;\n",
       "    }\n",
       "\n",
       "    .dataframe tbody tr th {\n",
       "        vertical-align: top;\n",
       "    }\n",
       "\n",
       "    .dataframe thead th {\n",
       "        text-align: right;\n",
       "    }\n",
       "</style>\n",
       "<table border=\"1\" class=\"dataframe\">\n",
       "  <thead>\n",
       "    <tr style=\"text-align: right;\">\n",
       "      <th></th>\n",
       "      <th>branch</th>\n",
       "      <th>pval</th>\n",
       "      <th>trans</th>\n",
       "      <th>gene</th>\n",
       "    </tr>\n",
       "  </thead>\n",
       "  <tbody>\n",
       "    <tr>\n",
       "      <th>0</th>\n",
       "      <td>HLacaPus1</td>\n",
       "      <td>1.0</td>\n",
       "      <td>SLC41A2_rna-XM_015286032.2</td>\n",
       "      <td>SLC41A2</td>\n",
       "    </tr>\n",
       "    <tr>\n",
       "      <th>1</th>\n",
       "      <td>HLacaPus1_HLparPun1</td>\n",
       "      <td>1.0</td>\n",
       "      <td>SLC41A2_rna-XM_015286032.2</td>\n",
       "      <td>SLC41A2</td>\n",
       "    </tr>\n",
       "    <tr>\n",
       "      <th>2</th>\n",
       "      <td>HLamaAes1</td>\n",
       "      <td>1.0</td>\n",
       "      <td>SLC41A2_rna-XM_015286032.2</td>\n",
       "      <td>SLC41A2</td>\n",
       "    </tr>\n",
       "    <tr>\n",
       "      <th>3</th>\n",
       "      <td>HLamaAes1_HLaraSol1</td>\n",
       "      <td>1.0</td>\n",
       "      <td>SLC41A2_rna-XM_015286032.2</td>\n",
       "      <td>SLC41A2</td>\n",
       "    </tr>\n",
       "    <tr>\n",
       "      <th>4</th>\n",
       "      <td>HLamaAes1_HLnymHol2</td>\n",
       "      <td>1.0</td>\n",
       "      <td>SLC41A2_rna-XM_015286032.2</td>\n",
       "      <td>SLC41A2</td>\n",
       "    </tr>\n",
       "  </tbody>\n",
       "</table>\n",
       "</div>"
      ],
      "text/plain": [
       "                branch  pval                       trans     gene\n",
       "0            HLacaPus1   1.0  SLC41A2_rna-XM_015286032.2  SLC41A2\n",
       "1  HLacaPus1_HLparPun1   1.0  SLC41A2_rna-XM_015286032.2  SLC41A2\n",
       "2            HLamaAes1   1.0  SLC41A2_rna-XM_015286032.2  SLC41A2\n",
       "3  HLamaAes1_HLaraSol1   1.0  SLC41A2_rna-XM_015286032.2  SLC41A2\n",
       "4  HLamaAes1_HLnymHol2   1.0  SLC41A2_rna-XM_015286032.2  SLC41A2"
      ]
     },
     "execution_count": 3,
     "metadata": {},
     "output_type": "execute_result"
    }
   ],
   "source": [
    "## Read the absrel final table: branch \\t p-value \\t transcript \\t gene\n",
    "dir_path = '/Users/osipova/Documents/LabDocs/NectarivoryProject/absrel/absrel_analysis_2024/'\n",
    "file_name = 'all.genes.pval.table.tsv'\n",
    "# file_name = 'validated.all.genes.pval.table.tsv'\n",
    "\n",
    "file_data = glob(dir_path + file_name)[0]\n",
    "pval_tab = pd.read_csv(file_data, sep='\\t')\n",
    "\n",
    "## filter all unknown genes: reg_* - don't do this!\n",
    "# pval_tab = pval_tab[~pval_tab['gene'].str.startswith('reg_')]\n",
    "\n",
    "pval_tab.head()"
   ]
  },
  {
   "cell_type": "code",
   "execution_count": 4,
   "id": "viral-thirty",
   "metadata": {},
   "outputs": [],
   "source": [
    "## Read all bracnhes from tree\n",
    "# dir_path = '/Users/osipova/Documents/LabDocs/Birds_Phylogeny/'\n",
    "# file_name = '45_bird_code_tree_topology.ans.tree'\n",
    "\n",
    "# with open(dir_path + file_name, 'r') as inf:\n",
    "#     all_branches = inf.read().rstrip().replace('(', '').replace(')', ',').split(',')"
   ]
  },
  {
   "cell_type": "code",
   "execution_count": 5,
   "id": "defined-emission",
   "metadata": {},
   "outputs": [],
   "source": [
    "## Define groups of species: Nectar project\n",
    "# core nectar groups\n",
    "hmmbrds = [\"HLcalAnn5\", \"HLfloFus1\", \"HLphaSup1\", \"HLfloFus1_HLcalAnn5\", \"HLfloFus1_HLphaSup1\"]\n",
    "honeyeaters = [\"HLlicMelCas1\", \"HLphyNov1\", \"HLgraPic1\", \"HLlicPen1\",\n",
    "             \"HLlicMelCas1_HLgraPic1\", \"HLlicMelCas1_HLlicPen1\", \"HLlicMelCas1_HLphyNov1\"]\n",
    "# sunbirds = [\"HLcinPul1\", \"HLlepAsp1\", \"HLlepAsp1_HLcinPul1\", \"HLdicExi1\", \"HLlepAsp1_HLdicExi1\"]\n",
    "sunbirds = [\"HLlepAsp1\", \"HLdicExi1\", \"HLlepAsp1_HLdicExi1\"]\n",
    "nectar_parrots = [\"HLtriMol2\", \"HLlorGal1\", \"HLamaAes1\", \"HLaraSol1\",\n",
    "          \"HLamaAes1_HLaraSol1\", \"HLtriMol2_HLlorGal1\", \"HLamaAes1_HLtriMol2\"]\n",
    "\n",
    "# core nonnectar groups\n",
    "swifts = ['HLapuApu1', 'HLchaPel1', 'HLchaPel1_HLapuApu1']\n",
    "falcons = ['falPer1', 'falChe1', 'HLfalTin1', 'falPer1_falChe1', 'falPer1_HLfalTin1']\n",
    "lyrebirds = ['HLatrCla1', 'HLmenNov1', 'HLatrCla1_HLmenNov1']\n",
    "passerides = ['HLtaeGut4', 'pseHum1', 'ficAlb2', 'HLmelMel1_ficAlb2', 'HLparMaj1_pseHum1', \n",
    "              'HLmelMel1_HLparMaj1', 'HLmelMel1_HLtaeGut4', 'HLmelMel1_HLlepAsp1']\n",
    "\n",
    "# ambiguous groups\n",
    "songbirds = [\"HLacaPus1\", \"HLacaPus1_HLparPun1\", \"HLlicMelCas1_HLacaPus1\",\n",
    "             \"HLmalEle1\", \"HLmalCya1\", \"HLmalCya1_HLmalEle1\", \"HLcliRuf1\"]\n",
    "parrots_rest = [\"HLnymHol2\", \"HLstrHab1\", \"HLamaAes1_HLnymHol2\", \"HLamaAes1_HLstrHab1\"]\n",
    "passerins = [\"HLserCan1\", \"HLmelMel1\", \"HLmelMel1_HLserCan1\", \"HLparMaj1\"]\n",
    "flycatcher = [\"HLempTra1\"]\n",
    "pardalote = [\"HLparPun1\"]\n",
    "\n",
    "# nectar_br = hmmbrds + honeyeaters + pardalote + sunbirds + nectar_parrots\n",
    "nectar_br = hmmbrds + honeyeaters + sunbirds + nectar_parrots\n",
    "nonnectar = swifts + falcons + lyrebirds + passerides\n",
    "ambiguous = parrots_rest + passerins + songbirds + flycatcher + pardalote"
   ]
  },
  {
   "cell_type": "code",
   "execution_count": 6,
   "id": "fluid-latex",
   "metadata": {},
   "outputs": [],
   "source": [
    "## Dict for genes\n",
    "\n",
    "## Define p-value threshold:\n",
    "# pval_thresh = 0.01\n",
    "pval_thresh = 0.05\n",
    "\n",
    "# Drop transc column; leave significant pvalues: <= threshold; group by gene\n",
    "df = pval_tab.drop('trans', axis=1).loc[pval_tab['pval'] <= pval_thresh].groupby('gene')\n",
    "gene_dict = dict(tuple(df))"
   ]
  },
  {
   "cell_type": "code",
   "execution_count": 7,
   "id": "thermal-zambia",
   "metadata": {},
   "outputs": [],
   "source": [
    "## Make a dict: gene : percent of nectar takers under positive selection\n",
    " \n",
    "def calc_target_ratio(target, target_clades):\n",
    "    ## Takes target name and list of terget branches;\n",
    "    ## Outputs a dict with gene: (ratio, branches under selection)\n",
    "    \n",
    "    ratio_target_dict = {}\n",
    "    for g in gene_dict:\n",
    "        count_target = 0\n",
    "        count_out = 0\n",
    "        for branch in list(gene_dict[g].branch):\n",
    "            if branch in target_clades:\n",
    "                count_target += 1\n",
    "            if (branch not in target_clades ) and (branch not in ambiguous):\n",
    "                count_out += 1\n",
    "        if count_target != 0:\n",
    "            ratio_target = count_target / (count_target + count_out)\n",
    "            ratio_target_dict[g] = (ratio_target, set(gene_dict[g]['branch']))\n",
    "    return(ratio_target_dict)"
   ]
  },
  {
   "cell_type": "code",
   "execution_count": 33,
   "id": "cosmetic-application",
   "metadata": {},
   "outputs": [],
   "source": [
    "## get relevance reatio for target bracnches\n",
    "ratio_target_dict = calc_target_ratio('nectar', nectar_br)\n",
    "# ratio_target_dict = calc_target_ratio('nonnectar', nonnectar)"
   ]
  },
  {
   "cell_type": "code",
   "execution_count": null,
   "id": "fundamental-macedonia",
   "metadata": {},
   "outputs": [],
   "source": []
  },
  {
   "cell_type": "code",
   "execution_count": 34,
   "id": "eleven-attack",
   "metadata": {},
   "outputs": [
    {
     "data": {
      "image/png": "[encoded data removed]",
      "text/plain": [
       "<Figure size 288x288 with 1 Axes>"
      ]
     },
     "metadata": {
      "needs_background": "light"
     },
     "output_type": "display_data"
    }
   ],
   "source": [
    "target = 'nectar'\n",
    "all_ratio_values = [v[0] for v in ratio_target_dict.values()]\n",
    "fig, axes = plt.subplots(figsize=(4, 4))\n",
    "sns.distplot(all_ratio_values, bins=18, kde=False)\n",
    "\n",
    "axes.set_xlabel('ratio target branches positively selected (p={})'.format(pval_thresh))\n",
    "axes.set_ylabel('number of genes')\n",
    "axes.set_ylim(0, 800)\n",
    "\n",
    "sns.despine(bottom=False, left=False)\n",
    "fig.tight_layout()\n",
    "\n",
    "pdf_name = \"{}{}_ranked_genes_{}_ratio.pdf\".format(dir_path, pval_thresh, target)\n",
    "# fig.savefig(pdf_name, bbox_inches='tight')\n"
   ]
  },
  {
   "cell_type": "code",
   "execution_count": null,
   "id": "alternative-payment",
   "metadata": {},
   "outputs": [],
   "source": []
  },
  {
   "cell_type": "code",
   "execution_count": 35,
   "id": "operational-hammer",
   "metadata": {},
   "outputs": [
    {
     "name": "stdout",
     "output_type": "stream",
     "text": [
      "Number of genes above the 0.5 threshold is: 977\n"
     ]
    }
   ],
   "source": [
    "## Output genes in dictionary that have target ratio above the threshold\n",
    "threshold = 0.5\n",
    "# threshold = 0.99\n",
    "count = 0\n",
    "target = 'nectar'\n",
    "# target = 'nonnectar'\n",
    "\n",
    "dir_path = '/Users/osipova/Documents/LabDocs/NectarivoryProject/absrel/absrel_analysis_2024/'\n",
    "out_dir = dir_path\n",
    "out_file_name = 'under_selection_ranked_genes_{}_{}.tsv'.format(threshold, target)\n",
    "out_file = out_dir + out_file_name\n",
    "\n",
    "filtered_genes = []\n",
    "with open(out_file, 'w') as ouf:\n",
    "    for k, v in ratio_target_dict.items():\n",
    "#     for k, v in sorted(ratio_target_dict.items(), key=lambda item: item[1]):\n",
    "        if (v[0] > threshold):\n",
    "            count += 1\n",
    "            filtered_genes.append(k)\n",
    "            out_line = '{}\\t{}\\t{}\\n'.format(k, v[0], ','.join(list(v[1])))\n",
    "            ouf.write(out_line)\n",
    "            #print('{}\\t{}'.format(k, v))\n",
    "\n",
    "print('Number of genes above the {} threshold is: {}'.format(threshold, count))"
   ]
  },
  {
   "cell_type": "code",
   "execution_count": 36,
   "id": "powered-encounter",
   "metadata": {},
   "outputs": [],
   "source": [
    "## Create filtered gene lists\n",
    "\n",
    "fg_list = [hmmbrds, honeyeaters, nectar_parrots, sunbirds]\n",
    "fg_names_list = ['hmmbrds', 'honeyeaters', 'nectar_parrots', 'sunbirds']\n",
    "\n",
    "# fg_list = [swifts, falcons, lyrebirds, passerides]\n",
    "# fg_names_list = ['swifts', 'falcons', 'lyrebirds', 'passerides']\n",
    "\n",
    "# fg_list = [hmmbrds, sunbirds, green, blue]\n",
    "# fg_names_list = ['hmmbrds', 'sunbirds', 'green', 'blue']\n",
    "\n",
    "number_fg_in_clade = 1\n",
    "per_clade_genes = defaultdict(list)\n",
    "\n",
    "out_dir = dir_path\n",
    "out_file_name = 'under_selection_per_clade_{}.{}.tsv'.format(pval_thresh, target)\n",
    "out_file = out_dir + out_file_name\n",
    "\n",
    "with open(out_file, 'w') as ouf:\n",
    "    for i in range(len(fg_names_list)):\n",
    "        fg = fg_list[i]\n",
    "        fg_name = fg_names_list[i]\n",
    "        for g in filtered_genes:\n",
    "            branches = set(ratio_target_dict[g][1])\n",
    "            if len(list(set(fg) & branches)) >= number_fg_in_clade:\n",
    "                per_clade_genes[fg_name].append(g)\n",
    "                ouf.write('{}\\t{}\\t{}\\n'.format(fg_name, g, ','.join(ratio_target_dict[g][1])))"
   ]
  },
  {
   "cell_type": "code",
   "execution_count": null,
   "id": "minus-feeding",
   "metadata": {},
   "outputs": [],
   "source": []
  },
  {
   "cell_type": "code",
   "execution_count": 30,
   "id": "radical-deadline",
   "metadata": {},
   "outputs": [
    {
     "data": {
      "text/plain": [
       "<matplotlib.axes._subplots.AxesSubplot at 0x1468aeb50>"
      ]
     },
     "execution_count": 30,
     "metadata": {},
     "output_type": "execute_result"
    },
    {
     "data": {
      "image/png": "[encoded data removed]",
      "text/plain": [
       "<Figure size 576x576 with 1 Axes>"
      ]
     },
     "metadata": {},
     "output_type": "display_data"
    }
   ],
   "source": [
    "## Do Venns\n",
    "# convert lists to sets\n",
    "for k in per_clade_genes:\n",
    "    per_clade_genes[k] = set(per_clade_genes[k])\n",
    "venn(per_clade_genes, cmap='plasma', alpha=0.3)\n",
    "\n",
    "# plt.savefig(\"{}fg_2branches.venn_genes_p_{}_nectar_ratio_{}.noReg.pdf\".format(dir_path, pval_thresh, threshold))\n",
    "# plt.savefig(\"{}venn_genes_p_{}_nectar_ratio_{}.noReg.pdf\".format(dir_path, pval_thresh, threshold))\n",
    "# plt.savefig(\"{}venn_genes_p_{}_{}_ratio_greater{}.pdf\".format(dir_path, pval_thresh, target, threshold))"
   ]
  },
  {
   "cell_type": "code",
   "execution_count": null,
   "id": "determined-lingerie",
   "metadata": {},
   "outputs": [],
   "source": []
  },
  {
   "cell_type": "code",
   "execution_count": 66,
   "id": "powerful-airport",
   "metadata": {},
   "outputs": [],
   "source": [
    "### Intentionally left blank"
   ]
  },
  {
   "cell_type": "code",
   "execution_count": 15,
   "id": "armed-bahrain",
   "metadata": {},
   "outputs": [],
   "source": [
    "## Calculate degree of convergence\n",
    "\n",
    "def calc_convergence_ratio(total, per_clade_genes, clades):\n",
    "    ## Calculates ratio of Observed to Expected number of genes\n",
    "\n",
    "    Ni = [len(per_clade_genes[c]) for c in clades]\n",
    "    pi = [i / total for i in Ni]\n",
    "    all_clades_list = [per_clade_genes[c] for c in clades]\n",
    "    Nconv = len(set(all_clades_list[0]).intersection(*all_clades_list[1:]))\n",
    "    R = Nconv / (np.prod(pi) * total)\n",
    "    return R\n"
   ]
  },
  {
   "cell_type": "code",
   "execution_count": 68,
   "id": "noted-impossible",
   "metadata": {},
   "outputs": [
    {
     "name": "stdout",
     "output_type": "stream",
     "text": [
      "For pair ('swifts', 'falcons') degree of convergence is = 0.6607894736842105\n",
      "For pair ('swifts', 'lyrebirds') degree of convergence is = 0.873597929249353\n",
      "For pair ('swifts', 'passerides') degree of convergence is = 0.5434355118565646\n",
      "For pair ('falcons', 'lyrebirds') degree of convergence is = 0.8365573770491802\n",
      "For pair ('falcons', 'passerides') degree of convergence is = 0.5767912087912088\n",
      "For pair ('lyrebirds', 'passerides') degree of convergence is = 0.814231669969375\n",
      "For clades ('swifts', 'falcons', 'lyrebirds') degree of convergence is = 1.1463352027610008\n",
      "For clades ('swifts', 'falcons', 'passerides') degree of convergence is = 0.5805858877964142\n",
      "For clades ('swifts', 'lyrebirds', 'passerides') degree of convergence is = 1.0077672112184626\n",
      "For clades ('falcons', 'lyrebirds', 'passerides') degree of convergence is = 1.0531167357232931\n",
      "For clades ('swifts', 'falcons', 'lyrebirds', 'passerides') degree of convergence is = 1.8366557424456476\n"
     ]
    }
   ],
   "source": [
    "total = len(filtered_genes)\n",
    "R_target = []\n",
    "\n",
    "for pair in itertools.combinations(fg_names_list, r=2):\n",
    "    R = calc_convergence_ratio(total, per_clade_genes, pair)\n",
    "    R_target.append([2, R])\n",
    "    print('For pair {} degree of convergence is = {}'.format(pair, R))\n",
    "    \n",
    "for three in itertools.combinations(fg_names_list, r=3):\n",
    "    R = calc_convergence_ratio(total, per_clade_genes, three)\n",
    "    R_target.append([3, R])\n",
    "    print('For clades {} degree of convergence is = {}'.format(three, R))\n",
    "    \n",
    "for four in itertools.combinations(fg_names_list, r=4):\n",
    "    R = calc_convergence_ratio(total, per_clade_genes, four)\n",
    "    R_target.append([4, R])\n",
    "    print('For clades {} degree of convergence is = {}'.format(four, R))\n",
    "    "
   ]
  },
  {
   "cell_type": "code",
   "execution_count": 69,
   "id": "changing-bradley",
   "metadata": {},
   "outputs": [],
   "source": [
    "# R_df_nectar = pd.DataFrame(R_target, columns=['way', 'ratio'])\n",
    "R_df_nonnectar = pd.DataFrame(R_target, columns=['way', 'ratio'])"
   ]
  },
  {
   "cell_type": "code",
   "execution_count": 78,
   "id": "modular-traveler",
   "metadata": {},
   "outputs": [],
   "source": [
    "R_df_nectar['type'] = ['nectar'] * R_df_nectar.shape[0]\n",
    "R_df_nonnectar['type'] = ['nonnectar'] * R_df_nonnectar.shape[0]"
   ]
  },
  {
   "cell_type": "code",
   "execution_count": 163,
   "id": "balanced-committee",
   "metadata": {},
   "outputs": [
    {
     "data": {
      "image/png": "[encoded data removed]",
      "text/plain": [
       "<Figure size 288x432 with 1 Axes>"
      ]
     },
     "metadata": {
      "needs_background": "light"
     },
     "output_type": "display_data"
    }
   ],
   "source": [
    "df = pd.concat((R_df_nectar, R_df_nonnectar), ignore_index=True)\n",
    "# df['corr'] = np.where(df['type'] == 'nectar', 0.1, -0.05)\n",
    "# df['way_corr'] = df['way'] + df['corr']\n",
    "\n",
    "sns.set_palette(['#0571b0', '#ca0020'])\n",
    "fig, axes = plt.subplots(figsize=(4, 6))\n",
    "sns.stripplot(data=df, x='way', y='ratio', hue='type', hue_order=['nonnectar', 'nectar'],\n",
    "              dodge=True, jitter=0.2)\n",
    "sns.boxplot(data=df, x='way', y='ratio', hue='type', hue_order=['nonnectar', 'nectar'],\n",
    "            boxprops=dict(alpha=.3))\n",
    "\n",
    "axes.set_ylim(0, 3)\n",
    "sns.despine(fig=None, ax=None, left=False, bottom=False, offset=None, trim=False)\n",
    "\n",
    "plot_name = 'convergence_ratio.positive_selection.pdf'\n",
    "# plt.savefig(plot_name)"
   ]
  },
  {
   "cell_type": "code",
   "execution_count": 159,
   "id": "compact-madagascar",
   "metadata": {},
   "outputs": [
    {
     "name": "stdout",
     "output_type": "stream",
     "text": [
      "MannwhitneyuResult(statistic=27.0, pvalue=0.1734854683214785)\n",
      "MannwhitneyuResult(statistic=14.0, pvalue=0.11235119769046385)\n"
     ]
    }
   ],
   "source": [
    "nectar_2way = R_df_nectar[R_df_nectar['way'] == 2]['ratio']\n",
    "nonnectar_2way = R_df_nonnectar[R_df_nonnectar['way'] == 2]['ratio']\n",
    "\n",
    "nectar_3way = R_df_nectar[R_df_nectar['way'] == 3]['ratio']\n",
    "nonnectar_3way = R_df_nonnectar[R_df_nonnectar['way'] == 3]['ratio']\n",
    "\n",
    "print(mannwhitneyu(nectar_2way, nonnectar_2way, alternative='two-sided'))\n",
    "print(mannwhitneyu(nectar_3way, nonnectar_3way, alternative='two-sided'))"
   ]
  },
  {
   "cell_type": "code",
   "execution_count": null,
   "id": "afraid-power",
   "metadata": {},
   "outputs": [],
   "source": [
    "### Intentionally left blank"
   ]
  },
  {
   "cell_type": "code",
   "execution_count": 28,
   "id": "occasional-thanksgiving",
   "metadata": {},
   "outputs": [
    {
     "name": "stdout",
     "output_type": "stream",
     "text": [
      "93\n",
      "85\n",
      "48\n"
     ]
    }
   ],
   "source": [
    "## Explore GO terms: response to radiation VS flu response: nectar VS nonnectar\n",
    "ratio_target_dict_nectar = calc_target_ratio('nectar', nectar_br)\n",
    "ratio_target_dict_nonnectar = calc_target_ratio('nonnectar', nonnectar)\n",
    "\n",
    "## GO:0009314 response to radiation - get genes\n",
    "# file_name = 'Metascape_enrich_4_lists/genes.GO_0009314.txt'\n",
    "# file_name = 'Metascape_enrich_4_lists/genes.GO_0002819.txt'\n",
    "file_name = 'Metascape_enrich_4_lists/genes.GO_0045321.txt'\n",
    "file_data = glob(dir_path + file_name)[0]\n",
    "go1_tab = pd.read_csv(file_data, sep='\\t')\n",
    "go1_genes = go1_tab['gene']\n",
    "\n",
    "at_least_one_target_nectar = []\n",
    "for g in ratio_target_dict_nectar:\n",
    "    if ratio_target_dict_nectar[g][0] > 0:\n",
    "        at_least_one_target_nectar.append(g)\n",
    "        \n",
    "at_least_one_target_nonnectar = []\n",
    "for g in ratio_target_dict_nonnectar:\n",
    "    if ratio_target_dict_nonnectar[g][0] > 0:\n",
    "        at_least_one_target_nonnectar.append(g)\n",
    "        \n",
    "go1_genes_nectar = list(set(go1_genes) & set(at_least_one_target_nectar))\n",
    "go1_genes_nonnectar = list(set(go1_genes) & set(at_least_one_target_nonnectar))\n",
    "\n",
    "print(len(go1_genes_nectar))\n",
    "print(len(go1_genes_nonnectar))\n",
    "print(len(set(go1_genes_nectar) & set(go1_genes_nonnectar)))"
   ]
  },
  {
   "cell_type": "code",
   "execution_count": 41,
   "id": "roman-drawing",
   "metadata": {},
   "outputs": [
    {
     "data": {
      "image/png": "[encoded data removed]",
      "text/plain": [
       "<Figure size 288x288 with 1 Axes>"
      ]
     },
     "metadata": {
      "needs_background": "light"
     },
     "output_type": "display_data"
    }
   ],
   "source": [
    "### Check total branch length per groups\n",
    "BL_df = pd.DataFrame.from_dict({'group': ['hummingbirds',\n",
    "                           'honeyeaters', \n",
    "                           'parrots',\n",
    "                           'sunbirds',\n",
    "                           'swifts', \n",
    "                           'lyrebirds',\n",
    "                           'passerids',\n",
    "                           'falcons'],\n",
    "                 'branch_length': [0.18795759,\n",
    "                               0.11596274, \n",
    "                               0.15354985, \n",
    "                               0.1091534, \n",
    "                               0.1248886,\n",
    "                               0.1002603,\n",
    "                               0.20651251,\n",
    "                               0.09851877],\n",
    "                'branch_number': [5, 7, 7, 5, 3, 3, 8, 5],\n",
    "                'type': ['nectar']*4 + ['nonnectar']*4})\n",
    "\n",
    "BL_df['norm_BL'] = BL_df['branch_length'] / BL_df['branch_number']\n",
    "\n",
    "p = ['#ca0020', '#0571b0']\n",
    "sns.set_palette(p)\n",
    "fig, axes = plt.subplots(figsize=(4, 4))\n",
    "sns.stripplot(data=BL_df, x='type', y='norm_BL', dodge=True, jitter=0.15)\n",
    "\n",
    "\n",
    "axes.set_ylim(0, 0.08)\n",
    "axes.set_xlabel('')\n",
    "axes.set_ylabel('sum branch lengths / \\nnumber of branches')\n",
    "sns.despine(fig=None, ax=None, left=False, bottom=False, offset=None, trim=False)\n",
    "\n",
    "\n",
    "labels = []\n",
    "for x, y, l in zip(BL_df['type'], BL_df['norm_BL'], BL_df['group']):\n",
    "    if x == 'nectar':\n",
    "        x = 0\n",
    "        c = p[0]\n",
    "    elif x == 'nonnectar':\n",
    "        x = 1\n",
    "        c = p[1]\n",
    "    labels.append(axes.text(x=x, y=y, s=l, color=c, size=10))\n",
    "adjust_text(labels, ax=axes)\n",
    "\n",
    "fig.tight_layout()\n",
    "plot_name = 'total_branch_length_nectar_vs_nonnectar.pdf'\n",
    "# plt.savefig(plot_name, bbox_inches='tight')"
   ]
  },
  {
   "cell_type": "code",
   "execution_count": 17,
   "id": "negative-blast",
   "metadata": {},
   "outputs": [
    {
     "data": {
      "text/html": [
       "<div>\n",
       "<style scoped>\n",
       "    .dataframe tbody tr th:only-of-type {\n",
       "        vertical-align: middle;\n",
       "    }\n",
       "\n",
       "    .dataframe tbody tr th {\n",
       "        vertical-align: top;\n",
       "    }\n",
       "\n",
       "    .dataframe thead th {\n",
       "        text-align: right;\n",
       "    }\n",
       "</style>\n",
       "<table border=\"1\" class=\"dataframe\">\n",
       "  <thead>\n",
       "    <tr style=\"text-align: right;\">\n",
       "      <th></th>\n",
       "      <th>pair</th>\n",
       "      <th>type</th>\n",
       "      <th>value</th>\n",
       "      <th>count</th>\n",
       "    </tr>\n",
       "  </thead>\n",
       "  <tbody>\n",
       "    <tr>\n",
       "      <th>0</th>\n",
       "      <td>hmmbrds,honey</td>\n",
       "      <td>Odds Ratio</td>\n",
       "      <td>1.998588</td>\n",
       "      <td>2</td>\n",
       "    </tr>\n",
       "    <tr>\n",
       "      <th>1</th>\n",
       "      <td>hmmbrds,honey</td>\n",
       "      <td>Confidence Interval</td>\n",
       "      <td>1.267097</td>\n",
       "      <td>2</td>\n",
       "    </tr>\n",
       "    <tr>\n",
       "      <th>2</th>\n",
       "      <td>hmmbrds,honey</td>\n",
       "      <td>Confidence Interval</td>\n",
       "      <td>3.263713</td>\n",
       "      <td>2</td>\n",
       "    </tr>\n",
       "  </tbody>\n",
       "</table>\n",
       "</div>"
      ],
      "text/plain": [
       "            pair                 type     value  count\n",
       "0  hmmbrds,honey           Odds Ratio  1.998588      2\n",
       "1  hmmbrds,honey  Confidence Interval  1.267097      2\n",
       "2  hmmbrds,honey  Confidence Interval  3.263713      2"
      ]
     },
     "execution_count": 17,
     "metadata": {},
     "output_type": "execute_result"
    }
   ],
   "source": [
    "### Fisher-exact test for convergence\n",
    "dir_path = '/Users/osipova/Documents/LabDocs/NectarivoryProject/absrel/absrel_analysis_2021/'\n",
    "file_name = 'summary.matching_test_control.tsv'\n",
    "file_data = glob(dir_path + file_name)[0]\n",
    "df = pd.read_csv(file_data, sep='\\t')\n",
    "\n",
    "df['count'] = [len(i.split(',')) for i in df['pair']]\n",
    "df.head(3)"
   ]
  },
  {
   "cell_type": "code",
   "execution_count": 18,
   "id": "working-recommendation",
   "metadata": {},
   "outputs": [
    {
     "name": "stderr",
     "output_type": "stream",
     "text": [
      "/Users/osipova/local/Homebrew/lib/python3.7/site-packages/ipykernel_launcher.py:16: UserWarning: Boolean Series key will be reindexed to match DataFrame index.\n",
      "  app.launch_new_instance()\n",
      "/Users/osipova/local/Homebrew/lib/python3.7/site-packages/ipykernel_launcher.py:17: UserWarning: Boolean Series key will be reindexed to match DataFrame index.\n",
      "/Users/osipova/local/Homebrew/lib/python3.7/site-packages/ipykernel_launcher.py:18: UserWarning: Boolean Series key will be reindexed to match DataFrame index.\n",
      "/Users/osipova/local/Homebrew/lib/python3.7/site-packages/ipykernel_launcher.py:16: UserWarning: Boolean Series key will be reindexed to match DataFrame index.\n",
      "  app.launch_new_instance()\n",
      "/Users/osipova/local/Homebrew/lib/python3.7/site-packages/ipykernel_launcher.py:17: UserWarning: Boolean Series key will be reindexed to match DataFrame index.\n",
      "/Users/osipova/local/Homebrew/lib/python3.7/site-packages/ipykernel_launcher.py:18: UserWarning: Boolean Series key will be reindexed to match DataFrame index.\n",
      "/Users/osipova/local/Homebrew/lib/python3.7/site-packages/ipykernel_launcher.py:16: UserWarning: Boolean Series key will be reindexed to match DataFrame index.\n",
      "  app.launch_new_instance()\n",
      "/Users/osipova/local/Homebrew/lib/python3.7/site-packages/ipykernel_launcher.py:17: UserWarning: Boolean Series key will be reindexed to match DataFrame index.\n",
      "/Users/osipova/local/Homebrew/lib/python3.7/site-packages/ipykernel_launcher.py:18: UserWarning: Boolean Series key will be reindexed to match DataFrame index.\n"
     ]
    },
    {
     "data": {
      "image/png": "[encoded data removed]",
      "text/plain": [
       "<Figure size 648x432 with 3 Axes>"
      ]
     },
     "metadata": {
      "needs_background": "light"
     },
     "output_type": "display_data"
    }
   ],
   "source": [
    "fig, axes = plt.subplots(1, 3, figsize=(9, 6), gridspec_kw={'width_ratios': [6, 4, 1]})\n",
    "directions = [2, 3, 4]\n",
    "\n",
    "for i in range(3):\n",
    "    axi = axes[i]\n",
    "    d = directions[i]\n",
    "    dfi = df[(df['count'] == d)]\n",
    "    sns.scatterplot(ax=axi, data=dfi[dfi['type'] == 'Odds Ratio'], x='pair', y='value',\n",
    "                    color='black', s=100)\n",
    "#     axi.set_xticklabels(axi.get_xticklabels(), rotation=5)\n",
    "    \n",
    "    \n",
    "    for p in set(dfi['pair']):\n",
    "        ci_min = min(dfi[(dfi['pair'] == p)]['value'])\n",
    "        ci_max = max(dfi[(dfi['pair'] == p)]['value'])\n",
    "        odds = dfi[(dfi['pair'] == p) & (df['type'] == 'Odds Ratio')]['value']\n",
    "        ci = dfi[(dfi['pair'] == p) & (df['type'] != 'P-Value')]['value']\n",
    "        pval = list(dfi[(dfi['pair'] == p) & (df['type'] == 'P-Value')]['value'])[0]\n",
    "        axi.errorbar(x=p, y=ci, color='black')\n",
    "       \n",
    "        ## annotate with p-values\n",
    "        axi.annotate(\"{:.1e}\".format(pval), (p, odds + 5))\n",
    "        \n",
    "    axi.set_ylim(0.5, 9)\n",
    "    axi.set_ylabel('odds ratio')\n",
    "    axi.set_xlabel('')\n",
    "    axi.axhline(y=1, color = \"red\", linestyle = \"dashed\")\n",
    "\n",
    "    axi.tick_params(axis='x', rotation=90)\n",
    "sns.despine(bottom=False, left=False)\n",
    "fig.tight_layout()\n",
    "\n",
    "pdf_name = 'summary_Fexact.convergence.odds_ci_pval.pdf'\n",
    "# fig.savefig(pdf_name, bbox_inches='tight')"
   ]
  },
  {
   "cell_type": "code",
   "execution_count": null,
   "id": "legitimate-communist",
   "metadata": {},
   "outputs": [],
   "source": []
  }
 ],
 "metadata": {
  "kernelspec": {
   "display_name": "Python 3",
   "language": "python",
   "name": "python3"
  },
  "language_info": {
   "codemirror_mode": {
    "name": "ipython",
    "version": 3
   },
   "file_extension": ".py",
   "mimetype": "text/x-python",
   "name": "python",
   "nbconvert_exporter": "python",
   "pygments_lexer": "ipython3",
   "version": "3.7.5"
  }
 },
 "nbformat": 4,
 "nbformat_minor": 5
}
