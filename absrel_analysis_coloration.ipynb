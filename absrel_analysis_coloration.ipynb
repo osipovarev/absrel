{
 "cells": [
  {
   "cell_type": "code",
   "execution_count": 1,
   "id": "realistic-orange",
   "metadata": {},
   "outputs": [],
   "source": [
    "%matplotlib inline\n",
    "import numpy as np\n",
    "from glob import glob\n",
    "import pandas as pd\n",
    "from matplotlib import pyplot as plt\n",
    "import seaborn as sns\n",
    "import matplotlib\n",
    "matplotlib.rcParams['pdf.fonttype'] = 42\n",
    "matplotlib.rcParams['ps.fonttype'] = 42\n",
    "from venn import venn\n",
    "from collections import defaultdict\n",
    "import itertools"
   ]
  },
  {
   "cell_type": "code",
   "execution_count": 2,
   "id": "deluxe-contribution",
   "metadata": {},
   "outputs": [
    {
     "data": {
      "text/html": [
       "<div>\n",
       "<style scoped>\n",
       "    .dataframe tbody tr th:only-of-type {\n",
       "        vertical-align: middle;\n",
       "    }\n",
       "\n",
       "    .dataframe tbody tr th {\n",
       "        vertical-align: top;\n",
       "    }\n",
       "\n",
       "    .dataframe thead th {\n",
       "        text-align: right;\n",
       "    }\n",
       "</style>\n",
       "<table border=\"1\" class=\"dataframe\">\n",
       "  <thead>\n",
       "    <tr style=\"text-align: right;\">\n",
       "      <th></th>\n",
       "      <th>branch</th>\n",
       "      <th>pval</th>\n",
       "      <th>trans</th>\n",
       "      <th>gene</th>\n",
       "    </tr>\n",
       "  </thead>\n",
       "  <tbody>\n",
       "    <tr>\n",
       "      <th>0</th>\n",
       "      <td>HLacaPus1</td>\n",
       "      <td>1.0</td>\n",
       "      <td>SUSD6_rna-XM_004941692.3</td>\n",
       "      <td>SUSD6</td>\n",
       "    </tr>\n",
       "    <tr>\n",
       "      <th>1</th>\n",
       "      <td>HLacaPus1_HLparPun1</td>\n",
       "      <td>1.0</td>\n",
       "      <td>SUSD6_rna-XM_004941692.3</td>\n",
       "      <td>SUSD6</td>\n",
       "    </tr>\n",
       "    <tr>\n",
       "      <th>2</th>\n",
       "      <td>HLamaAes1</td>\n",
       "      <td>1.0</td>\n",
       "      <td>SUSD6_rna-XM_004941692.3</td>\n",
       "      <td>SUSD6</td>\n",
       "    </tr>\n",
       "    <tr>\n",
       "      <th>3</th>\n",
       "      <td>HLamaAes1_HLaraSol1</td>\n",
       "      <td>1.0</td>\n",
       "      <td>SUSD6_rna-XM_004941692.3</td>\n",
       "      <td>SUSD6</td>\n",
       "    </tr>\n",
       "    <tr>\n",
       "      <th>4</th>\n",
       "      <td>HLamaAes1_HLstrHab1</td>\n",
       "      <td>1.0</td>\n",
       "      <td>SUSD6_rna-XM_004941692.3</td>\n",
       "      <td>SUSD6</td>\n",
       "    </tr>\n",
       "  </tbody>\n",
       "</table>\n",
       "</div>"
      ],
      "text/plain": [
       "                branch  pval                     trans   gene\n",
       "0            HLacaPus1   1.0  SUSD6_rna-XM_004941692.3  SUSD6\n",
       "1  HLacaPus1_HLparPun1   1.0  SUSD6_rna-XM_004941692.3  SUSD6\n",
       "2            HLamaAes1   1.0  SUSD6_rna-XM_004941692.3  SUSD6\n",
       "3  HLamaAes1_HLaraSol1   1.0  SUSD6_rna-XM_004941692.3  SUSD6\n",
       "4  HLamaAes1_HLstrHab1   1.0  SUSD6_rna-XM_004941692.3  SUSD6"
      ]
     },
     "execution_count": 2,
     "metadata": {},
     "output_type": "execute_result"
    }
   ],
   "source": [
    "dir_path = '/Users/osipova/Documents/LabDocs/NectarivoryProject/absrel/absrel_analysis_2021/'\n",
    "file_name = 'validated.all.genes.pval.table.tsv'\n",
    "\n",
    "file_data = glob(dir_path + file_name)[0]\n",
    "pval_tab = pd.read_csv(file_data, sep='\\t')\n",
    "\n",
    "pval_tab.head()"
   ]
  },
  {
   "cell_type": "code",
   "execution_count": 3,
   "id": "accurate-legend",
   "metadata": {},
   "outputs": [],
   "source": [
    "## Read all bracnhes from tree\n",
    "dir_path = '/Users/osipova/Documents/LabDocs/Birds_Phylogeny/'\n",
    "file_name = '45_bird_code_tree_topology.ans.tree'\n",
    "\n",
    "with open(dir_path + file_name, 'r') as inf:\n",
    "    all_branches = inf.read().rstrip().replace('(', '').replace(')', ',').split(',')"
   ]
  },
  {
   "cell_type": "code",
   "execution_count": 37,
   "id": "perceived-mainstream",
   "metadata": {},
   "outputs": [],
   "source": [
    "## Define groups of species: Coloration project\n",
    "# yellow\n",
    "hmmbrds = [\"HLcalAnn5\", \"HLfloFus1\", \"HLphaSup1\", \"HLfloFus1_HLcalAnn5\", \"HLfloFus1_HLphaSup1\"]\n",
    "sunbirds = [\"HLcinPul1\", \"HLlepAsp1\", \"HLlepAsp1_HLcinPul1\"]\n",
    "yellow = hmmbrds + sunbirds\n",
    "\n",
    "# green\n",
    "green = [\"galGal6\", \"HLcolLiv2\", \"HLcorCor3\", \"HLdicExi1\", \"HLlepAsp1_HLdicExi1\",\n",
    "         \"HLmalEle1\", \"HLmalCya1\", \"HLmalCya1_HLmalEle1\"]\n",
    "\n",
    "# blue\n",
    "swifts = ['HLapuApu1', 'HLchaPel1', 'HLchaPel1_HLapuApu1', 'HLfloFus1_HLchaPel1']\n",
    "pardalote = [\"HLparPun1\"]\n",
    "great_tit = [\"HLparMaj1\"]\n",
    "blue = swifts + pardalote + great_tit\n",
    "\n",
    "\n",
    "# define set1: yellow\n",
    "color_br = yellow\n",
    "target = 'yellow'\n",
    "ambiguous = set(blue + green)\n",
    "\n",
    "\n",
    "# # define set2: yellow + green\n",
    "# color_br = yellow + green\n",
    "# target = 'yellow_green'\n",
    "# ambiguous = set(blue)\n",
    "\n",
    "# # define set3: yellow + green + blue\n",
    "# color_br = yellow + green + blue\n",
    "# target = 'yellow_green_blue'\n",
    "# ambiguous = set([])\n",
    "\n",
    "# define background\n",
    "noncolor_br = set(all_branches) - set(yellow + blue + green)\n",
    "dir_path = '/Users/osipova/Documents/LabDocs/NectarivoryProject/absrel/absrel_analysis_color/'"
   ]
  },
  {
   "cell_type": "code",
   "execution_count": 38,
   "id": "authentic-hawaii",
   "metadata": {},
   "outputs": [],
   "source": [
    "## Dict for genes\n",
    "pval_thresh = 0.05\n",
    "\n",
    "# Drop transc column; leave signif pvalues: <= threshold; group by gene\n",
    "df = pval_tab.drop('trans', axis=1).loc[pval_tab['pval'] <= pval_thresh].groupby('gene')\n",
    "gene_dict = dict(tuple(df))"
   ]
  },
  {
   "cell_type": "code",
   "execution_count": 39,
   "id": "ordinary-tribune",
   "metadata": {},
   "outputs": [],
   "source": [
    "## Make a dict: gene : % target under positive selection\n",
    " \n",
    "def calc_target_ratio(target, target_clades):\n",
    "    ## Takes target name and list of terget branches;\n",
    "    ## Outputs a dict with gene: (ratio, branches under selection)\n",
    "    \n",
    "    ratio_target_dict = {}\n",
    "    for g in gene_dict:\n",
    "        count_target = 0\n",
    "        count_out = 0\n",
    "        for branch in list(gene_dict[g].branch):\n",
    "            if branch in target_clades:\n",
    "                count_target += 1\n",
    "            if (branch not in target_clades ) and (branch not in ambiguous):\n",
    "                count_out += 1\n",
    "        if count_target != 0:\n",
    "            ratio_target = count_target / (count_target + count_out)\n",
    "            ratio_target_dict[g] = (ratio_target, set(gene_dict[g]['branch']))\n",
    "    return(ratio_target_dict)"
   ]
  },
  {
   "cell_type": "code",
   "execution_count": 40,
   "id": "certified-degree",
   "metadata": {},
   "outputs": [],
   "source": [
    "## get relevance reatio for target bracnches\n",
    "ratio_target_dict = calc_target_ratio('color', color_br)"
   ]
  },
  {
   "cell_type": "code",
   "execution_count": 41,
   "id": "cultural-ebony",
   "metadata": {},
   "outputs": [
    {
     "data": {
      "text/plain": [
       "Text(0, 0.5, 'number of genes')"
      ]
     },
     "execution_count": 41,
     "metadata": {},
     "output_type": "execute_result"
    },
    {
     "data": {
      "image/png": "[encoded data removed]",
      "text/plain": [
       "<Figure size 360x360 with 1 Axes>"
      ]
     },
     "metadata": {
      "needs_background": "light"
     },
     "output_type": "display_data"
    }
   ],
   "source": [
    "all_ratio_values = [v[0] for v in ratio_target_dict.values()]\n",
    "fig, axes = plt.subplots(figsize=(5, 5))\n",
    "sns.distplot(all_ratio_values, bins=18, kde=False)\n",
    "\n",
    "axes.set_xlabel('ratio target branches positively selected (p={})'.format(pval_thresh))\n",
    "axes.set_ylabel('number of genes')\n",
    "# axes.set_ylim(0, 800)"
   ]
  },
  {
   "cell_type": "code",
   "execution_count": 42,
   "id": "strange-cover",
   "metadata": {},
   "outputs": [
    {
     "name": "stdout",
     "output_type": "stream",
     "text": [
      "Number of genes above the 0.5 threshold is: 388\n"
     ]
    }
   ],
   "source": [
    "## Output genes in dictionary that have target ratio above the threshold\n",
    "threshold = 0.5\n",
    "count = 0\n",
    "\n",
    "out_dir = dir_path\n",
    "out_file_name = 'under_selection_ranked_genes_{}_{}.tsv'.format(threshold, target)\n",
    "out_file = out_dir + out_file_name\n",
    "\n",
    "filtered_genes = []\n",
    "with open(out_file, 'w') as ouf:\n",
    "    for k, v in ratio_target_dict.items():\n",
    "        if (v[0] > threshold):\n",
    "            count += 1\n",
    "            filtered_genes.append(k)\n",
    "            out_line = '{}\\t{}\\t{}\\n'.format(k, v[0], ','.join(list(v[1])))\n",
    "            ouf.write(out_line)\n",
    "\n",
    "print('Number of genes above the {} threshold is: {}'.format(threshold, count))"
   ]
  },
  {
   "cell_type": "code",
   "execution_count": 43,
   "id": "defined-ebony",
   "metadata": {},
   "outputs": [],
   "source": [
    "## Create filtered gene lists\n",
    "\n",
    "fg_list = [hmmbrds, sunbirds, green, blue]\n",
    "fg_names_list = ['hmmbrds', 'sunbirds', 'green', 'blue']\n",
    "\n",
    "number_fg_in_clade = 1\n",
    "per_clade_genes = defaultdict(list)\n",
    "\n",
    "out_dir = dir_path\n",
    "out_file_name = 'under_selection_per_clade_{}.{}.tsv'.format(pval_thresh, target)\n",
    "out_file = out_dir + out_file_name\n",
    "\n",
    "with open(out_file, 'w') as ouf:\n",
    "    for i in range(len(fg_names_list)):\n",
    "        fg = fg_list[i]\n",
    "        fg_name = fg_names_list[i]\n",
    "        for g in filtered_genes:\n",
    "            branches = set(ratio_target_dict[g][1])\n",
    "            if len(list(set(fg) & branches)) >= number_fg_in_clade:\n",
    "                per_clade_genes[fg_name].append(g)\n",
    "                ouf.write('{}\\t{}\\t{}\\n'.format(fg_name, g, ','.join(ratio_target_dict[g][1])))"
   ]
  },
  {
   "cell_type": "code",
   "execution_count": 44,
   "id": "sunset-submission",
   "metadata": {},
   "outputs": [
    {
     "data": {
      "text/plain": [
       "<matplotlib.axes._subplots.AxesSubplot at 0x1429d5bd0>"
      ]
     },
     "execution_count": 44,
     "metadata": {},
     "output_type": "execute_result"
    },
    {
     "data": {
      "image/png": "[encoded data removed]",
      "text/plain": [
       "<Figure size 576x576 with 1 Axes>"
      ]
     },
     "metadata": {},
     "output_type": "display_data"
    }
   ],
   "source": [
    "## Plot Venns\n",
    "for k in per_clade_genes:\n",
    "    per_clade_genes[k] = set(per_clade_genes[k])\n",
    "venn(per_clade_genes, cmap='plasma', alpha=0.3)\n",
    "\n",
    "# plt.savefig(\"{}venn_genes_p_{}_color_ratio_{}.noReg.pdf\".format(dir_path, pval_thresh, threshold))"
   ]
  },
  {
   "cell_type": "code",
   "execution_count": null,
   "id": "round-repeat",
   "metadata": {},
   "outputs": [],
   "source": []
  }
 ],
 "metadata": {
  "kernelspec": {
   "display_name": "Python 3",
   "language": "python",
   "name": "python3"
  },
  "language_info": {
   "codemirror_mode": {
    "name": "ipython",
    "version": 3
   },
   "file_extension": ".py",
   "mimetype": "text/x-python",
   "name": "python",
   "nbconvert_exporter": "python",
   "pygments_lexer": "ipython3",
   "version": "3.7.5"
  }
 },
 "nbformat": 4,
 "nbformat_minor": 5
}
